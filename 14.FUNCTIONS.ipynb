{
 "cells": [
  {
   "cell_type": "code",
   "execution_count": 1,
   "metadata": {},
   "outputs": [
    {
     "name": "stdout",
     "output_type": "stream",
     "text": [
      "Hello Sai\n",
      "What's going on?\n"
     ]
    }
   ],
   "source": [
    "def greet(name):\n",
    "    print(\"Hello\" , name)\n",
    "    print(\"What's going on?\")\n",
    "greet('Sai')"
   ]
  },
  {
   "cell_type": "code",
   "execution_count": 2,
   "metadata": {},
   "outputs": [
    {
     "name": "stdout",
     "output_type": "stream",
     "text": [
      "Hello , Sai\n",
      "What's going on?\n",
      "This is outside greet()\n"
     ]
    }
   ],
   "source": [
    "def greet(name):\n",
    "    print(\"Hello , \" +name)\n",
    "    print(\"What's going on?\")\n",
    "greet(\"Sai\")\n",
    "print(\"This is outside greet()\")"
   ]
  },
  {
   "cell_type": "code",
   "execution_count": 3,
   "metadata": {},
   "outputs": [
    {
     "name": "stdout",
     "output_type": "stream",
     "text": [
      "sum =  -7\n"
     ]
    }
   ],
   "source": [
    "def add_numbers(n1 , n2):\n",
    "    sum = n1 + n2\n",
    "    print(\"sum = \" , sum)\n",
    "num1 = 5\n",
    "num2 = -12\n",
    "add_numbers(num1 , num2)"
   ]
  },
  {
   "cell_type": "code",
   "execution_count": 4,
   "metadata": {},
   "outputs": [
    {
     "name": "stdout",
     "output_type": "stream",
     "text": [
      "sum =  -7\n"
     ]
    }
   ],
   "source": [
    "def add_numbers(n1 , n2):\n",
    "    sum = n1 + n2\n",
    "    return sum\n",
    "result = add_numbers(5 , -12)\n",
    "print(\"sum = \" , result)"
   ]
  },
  {
   "cell_type": "code",
   "execution_count": 5,
   "metadata": {},
   "outputs": [
    {
     "name": "stdout",
     "output_type": "stream",
     "text": [
      "9\n",
      "8\n",
      "7\n",
      "6\n"
     ]
    }
   ],
   "source": [
    "def get_absolute(num):\n",
    "    if num >= 0:\n",
    "        return num\n",
    "    else:\n",
    "        return -num\n",
    "print(get_absolute(-9))\n",
    "print(get_absolute(-8))\n",
    "print(get_absolute(-7))\n",
    "print(get_absolute(-6))"
   ]
  },
  {
   "cell_type": "code",
   "execution_count": 6,
   "metadata": {},
   "outputs": [
    {
     "name": "stdout",
     "output_type": "stream",
     "text": [
      "Value inside function : 10\n",
      "Value outside function : 20\n"
     ]
    }
   ],
   "source": [
    "def my_func():\n",
    "    x = 10\n",
    "    print(\"Value inside function :\" , x)\n",
    "my_func()\n",
    "x = 20\n",
    "print(\"Value outside function :\" , x)"
   ]
  },
  {
   "cell_type": "code",
   "execution_count": 7,
   "metadata": {},
   "outputs": [
    {
     "name": "stdout",
     "output_type": "stream",
     "text": [
      "5\n"
     ]
    }
   ],
   "source": [
    "def my_func():\n",
    "    x = 5\n",
    "    print(x)\n",
    "my_func()"
   ]
  },
  {
   "cell_type": "code",
   "execution_count": 8,
   "metadata": {},
   "outputs": [
    {
     "name": "stdout",
     "output_type": "stream",
     "text": [
      "Hello from a function\n"
     ]
    }
   ],
   "source": [
    "def my_function():\n",
    "    print(\"Hello from a function\")\n",
    "my_function()"
   ]
  },
  {
   "cell_type": "code",
   "execution_count": 9,
   "metadata": {},
   "outputs": [
    {
     "name": "stdout",
     "output_type": "stream",
     "text": [
      "Python is best\n",
      "best\n"
     ]
    }
   ],
   "source": [
    "x = \"awesome\"\n",
    "\n",
    "def myfunc():\n",
    "    global x\n",
    "    x = \"best\"\n",
    "    print(\"Python is \" + x)\n",
    "\n",
    "myfunc()\n",
    "print(x)"
   ]
  },
  {
   "cell_type": "code",
   "execution_count": 10,
   "metadata": {},
   "outputs": [
    {
     "name": "stdout",
     "output_type": "stream",
     "text": [
      "best\n"
     ]
    }
   ],
   "source": [
    "def myfunc():\n",
    "    global x\n",
    "    x = \"fantastic\"\n",
    "print(x)"
   ]
  },
  {
   "cell_type": "code",
   "execution_count": 11,
   "metadata": {},
   "outputs": [
    {
     "name": "stdout",
     "output_type": "stream",
     "text": [
      "Python is fantastic\n",
      "Python is awesome\n"
     ]
    }
   ],
   "source": [
    "x = \"awesome\"\n",
    "\n",
    "def myfunc():\n",
    "    x = \"fantastic\"\n",
    "    print(\"Python is \" + x)\n",
    "\n",
    "myfunc()\n",
    "\n",
    "print(\"Python is \" + x)"
   ]
  },
  {
   "cell_type": "code",
   "execution_count": 12,
   "metadata": {},
   "outputs": [
    {
     "name": "stdout",
     "output_type": "stream",
     "text": [
      "Hello Sai, Good Morning\n"
     ]
    }
   ],
   "source": [
    "def greet(name ,msg):\n",
    "    print(\"Hello\" , name+ ', '+ msg)\n",
    "greet(\"Sai\" , \"Good Morning\")"
   ]
  },
  {
   "cell_type": "code",
   "execution_count": 13,
   "metadata": {},
   "outputs": [
    {
     "name": "stdout",
     "output_type": "stream",
     "text": [
      "Hey Sai , Good Morning\n",
      "Hey Rasika , Whats Up\n"
     ]
    }
   ],
   "source": [
    "def greet(name , msg = \"Good Morning\"):\n",
    "    print(\"Hey\" ,name + ' , ' +msg)\n",
    "greet(\"Sai\")\n",
    "greet(\"Rasika\" , \"Whats Up\")"
   ]
  },
  {
   "cell_type": "code",
   "execution_count": 14,
   "metadata": {},
   "outputs": [
    {
     "name": "stdout",
     "output_type": "stream",
     "text": [
      " Hey Sai ,  Good Morning\n"
     ]
    }
   ],
   "source": [
    "def greet(name , msg = \" Good Morning\"):\n",
    "    print(\" Hey\" , name + ' , '+msg)\n",
    "greet(\"Sai\")"
   ]
  },
  {
   "cell_type": "code",
   "execution_count": 15,
   "metadata": {},
   "outputs": [
    {
     "name": "stdout",
     "output_type": "stream",
     "text": [
      "Hey Sai , Good Morning\n"
     ]
    }
   ],
   "source": [
    "def greet(name , msg):\n",
    "    print('Hey' , name + ' , '+msg)\n",
    "greet(msg = \"Good Morning\" , name = \"Sai\")\n"
   ]
  },
  {
   "cell_type": "code",
   "execution_count": 16,
   "metadata": {},
   "outputs": [
    {
     "name": "stdout",
     "output_type": "stream",
     "text": [
      "Hey  Sai , Ssup ?\n"
     ]
    }
   ],
   "source": [
    "def greet(name , msg):\n",
    "    print(\"Hey \" ,name + ' , '+msg)\n",
    "greet(msg = \"Ssup ?\" , name = \"Sai\")"
   ]
  },
  {
   "cell_type": "code",
   "execution_count": 17,
   "metadata": {},
   "outputs": [
    {
     "name": "stdout",
     "output_type": "stream",
     "text": [
      "Hey Sai , Ssup ?\n"
     ]
    }
   ],
   "source": [
    "def greet(name , msg):\n",
    "    print(\"Hey\" , name+ ' , '+msg)\n",
    "greet(\"Sai\" , msg = \"Ssup ?\" )"
   ]
  },
  {
   "cell_type": "code",
   "execution_count": 18,
   "metadata": {},
   "outputs": [
    {
     "name": "stdout",
     "output_type": "stream",
     "text": [
      "('Sai', 'Rasika', 'Naik')\n"
     ]
    }
   ],
   "source": [
    "def greet(*names):\n",
    "    print(names)\n",
    "greet('Sai' , 'Rasika' , 'Naik')"
   ]
  },
  {
   "cell_type": "code",
   "execution_count": 19,
   "metadata": {},
   "outputs": [
    {
     "name": "stdout",
     "output_type": "stream",
     "text": [
      "(2, 5, 'Hello')\n"
     ]
    }
   ],
   "source": [
    "def my_func(a , b, c):\n",
    "    return a , b , c\n",
    "print(my_func(2 , 5 , \"Hello\"))"
   ]
  },
  {
   "cell_type": "code",
   "execution_count": 20,
   "metadata": {},
   "outputs": [
    {
     "name": "stdout",
     "output_type": "stream",
     "text": [
      "Sai Naik\n",
      "Arun Naik\n",
      "Rasika Naik\n"
     ]
    }
   ],
   "source": [
    "def my_function(fname):\n",
    "    print(fname + \" Naik\")\n",
    "\n",
    "my_function(\"Sai\")\n",
    "my_function(\"Arun\")\n",
    "my_function(\"Rasika\")"
   ]
  },
  {
   "cell_type": "code",
   "execution_count": 21,
   "metadata": {},
   "outputs": [
    {
     "name": "stdout",
     "output_type": "stream",
     "text": [
      "sai arun naik\n",
      "rasika arun naik\n"
     ]
    }
   ],
   "source": [
    "def myfunction(fname):\n",
    "    print(fname + \" arun\"  \" naik\")\n",
    "myfunction(\"sai\")\n",
    "myfunction(\"rasika\")\n"
   ]
  },
  {
   "cell_type": "code",
   "execution_count": 22,
   "metadata": {},
   "outputs": [
    {
     "name": "stdout",
     "output_type": "stream",
     "text": [
      "sai arun naik\n"
     ]
    }
   ],
   "source": [
    "def myfunction(fname , lname):\n",
    "    print(fname + \" arun \" + lname)\n",
    "myfunction(\"sai\", \"naik\")"
   ]
  },
  {
   "cell_type": "code",
   "execution_count": 23,
   "metadata": {
    "scrolled": true
   },
   "outputs": [
    {
     "name": "stdout",
     "output_type": "stream",
     "text": [
      "the youngest child is naik\n"
     ]
    }
   ],
   "source": [
    "def myfunction(*kids):\n",
    "    print(\"the youngest child is \" +kids[2])\n",
    "myfunction(\"sai\" , \"arun\" , \"naik\")"
   ]
  },
  {
   "cell_type": "code",
   "execution_count": 24,
   "metadata": {},
   "outputs": [
    {
     "name": "stdout",
     "output_type": "stream",
     "text": [
      "His last name is Naik\n"
     ]
    }
   ],
   "source": [
    "def my_function(**kid):\n",
    "  print(\"His last name is \" + kid[\"lname\"])\n",
    "\n",
    "my_function(fname = \"Sai\", lname = \"Naik\")"
   ]
  },
  {
   "cell_type": "code",
   "execution_count": 25,
   "metadata": {},
   "outputs": [
    {
     "name": "stdout",
     "output_type": "stream",
     "text": [
      "I am from New-Zealand\n",
      "I am from India\n",
      "I am from Australia\n",
      "I am from Norway\n"
     ]
    }
   ],
   "source": [
    "def my_function(country = \"Norway\"): #default\n",
    "    print(\"I am from \" + country)\n",
    "my_function(\"New-Zealand\")\n",
    "my_function(\"India\")\n",
    "my_function(\"Australia\")\n",
    "my_function()"
   ]
  },
  {
   "cell_type": "code",
   "execution_count": 26,
   "metadata": {},
   "outputs": [
    {
     "name": "stdout",
     "output_type": "stream",
     "text": [
      "I am from Sweden\n",
      "I am from India\n",
      "I am from Norway\n",
      "I am from Brazil\n"
     ]
    }
   ],
   "source": [
    "def my_function(country = \"Norway\"):\n",
    "  print(\"I am from \" + country)\n",
    "\n",
    "my_function(\"Sweden\")\n",
    "my_function(\"India\")\n",
    "my_function()\n",
    "my_function(\"Brazil\")"
   ]
  },
  {
   "cell_type": "code",
   "execution_count": 27,
   "metadata": {},
   "outputs": [
    {
     "name": "stdout",
     "output_type": "stream",
     "text": [
      "idli\n",
      "vada\n",
      "dosa\n"
     ]
    }
   ],
   "source": [
    "def my_function(food):\n",
    "    food = [\"idli\" , \"vada\" , \"dosa\"]\n",
    "    for x in food:\n",
    "        print(x)\n",
    "my_function(\"food\")"
   ]
  },
  {
   "cell_type": "code",
   "execution_count": 28,
   "metadata": {},
   "outputs": [
    {
     "name": "stdout",
     "output_type": "stream",
     "text": [
      "20\n",
      "25\n",
      "45\n"
     ]
    }
   ],
   "source": [
    "def my_function(x):\n",
    "    return 5 * x\n",
    "\n",
    "print(my_function(4))\n",
    "print(my_function(5))\n",
    "print(my_function(9))"
   ]
  },
  {
   "cell_type": "code",
   "execution_count": 29,
   "metadata": {},
   "outputs": [
    {
     "name": "stdout",
     "output_type": "stream",
     "text": [
      "True\n"
     ]
    }
   ],
   "source": [
    "def myFunction() :\n",
    "    return True\n",
    "\n",
    "print(myFunction())"
   ]
  },
  {
   "cell_type": "code",
   "execution_count": 30,
   "metadata": {},
   "outputs": [
    {
     "name": "stdout",
     "output_type": "stream",
     "text": [
      "30\n",
      "2664\n"
     ]
    }
   ],
   "source": [
    "def myfunction():\n",
    "    a = 10\n",
    "    b = 20\n",
    "    print(a + b)\n",
    "myfunction()\n",
    "def sai():\n",
    "    a = 74\n",
    "    b = 36\n",
    "    print(a * b)\n",
    "sai()"
   ]
  },
  {
   "cell_type": "code",
   "execution_count": 31,
   "metadata": {},
   "outputs": [
    {
     "name": "stdout",
     "output_type": "stream",
     "text": [
      "sai\n",
      "naik\n",
      "sai naik\n",
      "None\n"
     ]
    }
   ],
   "source": [
    "class person:\n",
    "    def __init__(self, fname, lname):\n",
    "        self.firstname = fname\n",
    "        self.lastname = lname\n",
    "\n",
    "    def printname(self):\n",
    "        print(self.firstname, self.lastname)\n",
    "a = person('sai','naik')\n",
    "print(a.firstname)\n",
    "print(a.lastname)\n",
    "print(a.printname())"
   ]
  },
  {
   "cell_type": "code",
   "execution_count": 32,
   "metadata": {},
   "outputs": [
    {
     "name": "stdout",
     "output_type": "stream",
     "text": [
      "\n",
      "\n",
      "Recursion Example Results\n",
      "1\n",
      "3\n",
      "6\n",
      "10\n",
      "15\n",
      "21\n"
     ]
    },
    {
     "data": {
      "text/plain": [
       "21"
      ]
     },
     "execution_count": 32,
     "metadata": {},
     "output_type": "execute_result"
    }
   ],
   "source": [
    "def tri_recursion(k):\n",
    "    if(k > 0):\n",
    "        result = k + tri_recursion(k - 1)\n",
    "        print(result)\n",
    "    else:\n",
    "        result = 0\n",
    "    return result\n",
    "\n",
    "print(\"\\n\\nRecursion Example Results\")\n",
    "tri_recursion(6)"
   ]
  },
  {
   "cell_type": "code",
   "execution_count": 33,
   "metadata": {},
   "outputs": [
    {
     "data": {
      "text/plain": [
       "10"
      ]
     },
     "execution_count": 33,
     "metadata": {},
     "output_type": "execute_result"
    }
   ],
   "source": [
    "def calc_sum(n): #recursion\n",
    "    if n==1:\n",
    "        return 1\n",
    "    else:\n",
    "        return n +calc_sum(n-1)\n",
    "calc_sum(4)"
   ]
  },
  {
   "cell_type": "code",
   "execution_count": 34,
   "metadata": {},
   "outputs": [
    {
     "name": "stdout",
     "output_type": "stream",
     "text": [
      "sai\n",
      "arun\n",
      "naik\n"
     ]
    }
   ],
   "source": [
    "def print_each(iterable):\n",
    "    iterator = iter(iterable)\n",
    "    while True:\n",
    "        try:\n",
    "            item = next(iterator)\n",
    "        except StopIteration:\n",
    "            break\n",
    "        else:\n",
    "            print(item)\n",
    "print_each(['sai' , 'arun' ,'naik'])"
   ]
  },
  {
   "cell_type": "markdown",
   "metadata": {},
   "source": [
    "1. Write a function called calculate_area that takes base and height as an input and returns and area of a triangle.\n",
    "Equation of an area of a triangle is,\n",
    "area = (1/2)*base*height"
   ]
  },
  {
   "cell_type": "code",
   "execution_count": 35,
   "metadata": {},
   "outputs": [
    {
     "name": "stdout",
     "output_type": "stream",
     "text": [
      "84.0\n",
      "127.5\n"
     ]
    }
   ],
   "source": [
    "def calculate_area(base , height):\n",
    "    area_of_triangle = 0.5 * base * height\n",
    "    print(area_of_triangle)\n",
    "calculate_area(12 ,14)\n",
    "calculate_area(15 , 17)"
   ]
  },
  {
   "cell_type": "markdown",
   "metadata": {},
   "source": [
    "2. Modify above function to take third parameter shape type. It can be either \"triangle\" or \"rectangle\". \n",
    "Based on shape type it will calculate area. Equation of rectangle's area is,\n",
    "rectangle area=length*width\n",
    "If no shape is supplied then it should take triangle as a default shape"
   ]
  },
  {
   "cell_type": "code",
   "execution_count": 36,
   "metadata": {},
   "outputs": [
    {
     "name": "stdout",
     "output_type": "stream",
     "text": [
      "84.0\n",
      "168\n"
     ]
    }
   ],
   "source": [
    "def calculate_area(value1 , value2 , shape='triangle'):\n",
    "    if shape=='triangle':\n",
    "        area_of_triangle = 0.5 * value1 * value2\n",
    "        print(area_of_triangle)\n",
    "    if shape=='rectangle':\n",
    "        area_of_rectangle = value1 * value2\n",
    "        print(area_of_rectangle)\n",
    "calculate_area(12 , 14)        \n",
    "calculate_area(12 , 14 ,'rectangle')"
   ]
  },
  {
   "cell_type": "markdown",
   "metadata": {},
   "source": [
    "3. Write a function called print_pattern that takes integer number as an argument and prints following pattern"
   ]
  },
  {
   "cell_type": "code",
   "execution_count": 37,
   "metadata": {},
   "outputs": [
    {
     "name": "stdout",
     "output_type": "stream",
     "text": [
      "Enter the number of rows :5\n",
      "* \n",
      "* * \n",
      "* * * \n",
      "* * * * \n",
      "* * * * * \n"
     ]
    }
   ],
   "source": [
    "num = int(input('Enter the number of rows :'))\n",
    "for i in range(1 , num+1):\n",
    "    for j in range(1 , i+1):\n",
    "        print('*' , end = \" \")\n",
    "    print()"
   ]
  },
  {
   "cell_type": "markdown",
   "metadata": {},
   "source": [
    "2. You are given following list of stocks and their prices in last 3 days,\n",
    "\n",
    "    |Stock|Prices|\n",
    "    |-------|----------|\n",
    "    |info|[600,630,620]|\n",
    "    |ril|[1430,1490,1567]|\n",
    "    |mtl|[234,180,160]|\n",
    "\n",
    "    1. Write a program that asks user for operation. Value of operations could be,\n",
    "        1. print: When user enters print it should print following,\n",
    "            info ==> [600, 630, 620] ==> avg:  616.67\n",
    "            ril ==> [1430, 1490, 1567] ==> avg:  1495.67\n",
    "            mtl ==> [234, 180, 160] ==> avg:  191.33\n",
    "            \n",
    "        2. add: When user enters 'add', it asks for stock ticker and price.\n",
    "           If stock already exist in your list (like info, ril etc) then it will append the price to the list.\n",
    "           Otherwise it will create new entry in your dictionary.\n",
    "           For example entering 'tata' and 560 will add tata ==> [560] to the dictionary of stocks."
   ]
  },
  {
   "cell_type": "code",
   "execution_count": 38,
   "metadata": {},
   "outputs": [],
   "source": [
    "info = [600 , 630 , 620]"
   ]
  },
  {
   "cell_type": "code",
   "execution_count": 39,
   "metadata": {},
   "outputs": [],
   "source": [
    "ril = [1430 , 1490 , 1567]"
   ]
  },
  {
   "cell_type": "code",
   "execution_count": 40,
   "metadata": {},
   "outputs": [],
   "source": [
    "mtl = [234 , 180 , 160]"
   ]
  },
  {
   "cell_type": "code",
   "execution_count": 41,
   "metadata": {},
   "outputs": [],
   "source": [
    "def avg(m1 , m2 ,m3):\n",
    "    ans = (m1+m2+m3)/3\n",
    "    print(ans)"
   ]
  },
  {
   "cell_type": "code",
   "execution_count": 42,
   "metadata": {},
   "outputs": [
    {
     "name": "stdout",
     "output_type": "stream",
     "text": [
      "616.6666666666666\n"
     ]
    }
   ],
   "source": [
    "avg(600 , 630 , 620)"
   ]
  },
  {
   "cell_type": "code",
   "execution_count": 43,
   "metadata": {},
   "outputs": [
    {
     "name": "stdout",
     "output_type": "stream",
     "text": [
      "1495.6666666666667\n"
     ]
    }
   ],
   "source": [
    "avg(1430 , 1490 , 1567)"
   ]
  },
  {
   "cell_type": "code",
   "execution_count": 44,
   "metadata": {},
   "outputs": [
    {
     "name": "stdout",
     "output_type": "stream",
     "text": [
      "191.33333333333334\n"
     ]
    }
   ],
   "source": [
    "avg(234 , 180 , 160)"
   ]
  },
  {
   "cell_type": "markdown",
   "metadata": {},
   "source": [
    "# COREY SCHAFER-FUNCTION"
   ]
  },
  {
   "cell_type": "code",
   "execution_count": 48,
   "metadata": {},
   "outputs": [
    {
     "name": "stdout",
     "output_type": "stream",
     "text": [
      " Hi , Sai \n",
      "('Sai', 'Arun', 'Naik')\n",
      "{'name': 'John', 'age': 22}\n"
     ]
    }
   ],
   "source": [
    "def hello_func(greeting , name='you'):\n",
    "    return ' {} , {} '.format(greeting,name)\n",
    "\n",
    "def student_info(*args , **kwargs): #dont know how may arguments and keyword arguments\n",
    "    print(args)\n",
    "    print(kwargs)\n",
    "\n",
    "print(hello_func('Hi' , name = 'Sai'))\n",
    "\n",
    "student_info('Sai' , 'Arun' , 'Naik' , name = 'John' , age = 22)\n"
   ]
  },
  {
   "cell_type": "code",
   "execution_count": 50,
   "metadata": {},
   "outputs": [
    {
     "name": "stdout",
     "output_type": "stream",
     "text": [
      "('Math', 'Art')\n",
      "{'name': 'Sai', 'age': 23}\n"
     ]
    }
   ],
   "source": [
    "def student_info(*args , **kwargs):\n",
    "    print(args)\n",
    "    print(kwargs)\n",
    "    \n",
    "courses = ['Math' , 'Art']\n",
    "info = {'name':'Sai' , 'age':23}\n",
    "\n",
    "student_info(*courses , **info)"
   ]
  },
  {
   "cell_type": "code",
   "execution_count": 52,
   "metadata": {},
   "outputs": [
    {
     "name": "stdout",
     "output_type": "stream",
     "text": [
      "28\n"
     ]
    }
   ],
   "source": [
    "#Number of days per month.First value placeholder for indexing purposes.\n",
    "month_days = [0 , 31 , 28 , 31 , 30 , 31 , 30 , 31 , 31 ,30 , 31 , 30 , 31]\n",
    "\n",
    "def is_leap(year):\n",
    "    #Returns True for leap year ,false for non leap year\n",
    "    return year % 4 == 0 and (year % 100 !=0 or year % 400 ==0)\n",
    "\n",
    "def days_in_month(year , month):\n",
    "    #Return no of days in that month in that year\n",
    "    #year 2017\n",
    "    #month 2\n",
    "    if not 1 <= month <= 12:\n",
    "        return 'Invalid Month'\n",
    "    \n",
    "    if month == 2 and is_leap(year):\n",
    "        return 29\n",
    "    return month_days[month]\n",
    "print(days_in_month(2017 , 2))\n",
    "    "
   ]
  },
  {
   "cell_type": "code",
   "execution_count": null,
   "metadata": {},
   "outputs": [],
   "source": []
  }
 ],
 "metadata": {
  "kernelspec": {
   "display_name": "Python 3",
   "language": "python",
   "name": "python3"
  },
  "language_info": {
   "codemirror_mode": {
    "name": "ipython",
    "version": 3
   },
   "file_extension": ".py",
   "mimetype": "text/x-python",
   "name": "python",
   "nbconvert_exporter": "python",
   "pygments_lexer": "ipython3",
   "version": "3.7.6"
  }
 },
 "nbformat": 4,
 "nbformat_minor": 4
}
