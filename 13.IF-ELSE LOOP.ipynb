{
 "cells": [
  {
   "cell_type": "code",
   "execution_count": 1,
   "metadata": {},
   "outputs": [
    {
     "name": "stdout",
     "output_type": "stream",
     "text": [
      "B\n"
     ]
    }
   ],
   "source": [
    "a = 340\n",
    "b = 360\n",
    "print(\"A\") if a > b else print(\"=\") if a == b else print(\"B\")"
   ]
  },
  {
   "cell_type": "code",
   "execution_count": 2,
   "metadata": {},
   "outputs": [
    {
     "name": "stdout",
     "output_type": "stream",
     "text": [
      "not greater than 20 \n"
     ]
    }
   ],
   "source": [
    "x = 9\n",
    "if x > 10:\n",
    "    print(\"x is greater than 10\")\n",
    "if x > 20:\n",
    "    print(\"also greater than 20\")\n",
    "else:\n",
    "    print(\"not greater than 20 \")"
   ]
  },
  {
   "cell_type": "code",
   "execution_count": 4,
   "metadata": {},
   "outputs": [
    {
     "name": "stdout",
     "output_type": "stream",
     "text": [
      "Above ten,\n",
      "and also above 20!\n"
     ]
    }
   ],
   "source": [
    "x = 41\n",
    "\n",
    "if x > 10:\n",
    "    print(\"Above ten,\")\n",
    "    if x > 20:\n",
    "        print(\"and also above 20!\")\n",
    "    else:\n",
    "        print(\"but not above 20.\")"
   ]
  },
  {
   "cell_type": "code",
   "execution_count": 5,
   "metadata": {},
   "outputs": [
    {
     "name": "stdout",
     "output_type": "stream",
     "text": [
      "1\n",
      "2\n",
      "3\n",
      "4\n",
      "5\n",
      "i is no longer less than 6\n"
     ]
    }
   ],
   "source": [
    "i = 1\n",
    "while i < 6:\n",
    "  print(i)\n",
    "  i += 1\n",
    "else:\n",
    "  print(\"i is no longer less than 6\")"
   ]
  },
  {
   "cell_type": "code",
   "execution_count": 1,
   "metadata": {},
   "outputs": [],
   "source": [
    "india = [\"mumbai\", \"banglore\", \"chennai\", \"delhi\"]"
   ]
  },
  {
   "cell_type": "code",
   "execution_count": 2,
   "metadata": {},
   "outputs": [],
   "source": [
    "pakistan = [\"lahore\",\"karachi\",\"islamabad\"]"
   ]
  },
  {
   "cell_type": "code",
   "execution_count": 4,
   "metadata": {},
   "outputs": [],
   "source": [
    "bangladesh = [\"dhaka\", \"khulna\", \"rangpur\"]"
   ]
  },
  {
   "cell_type": "markdown",
   "metadata": {},
   "source": [
    "1. Write a program that asks user to enter a city name and it should tell which country the city belongs to"
   ]
  },
  {
   "cell_type": "code",
   "execution_count": null,
   "metadata": {},
   "outputs": [],
   "source": [
    "city_name = input('Enter City Name :')\n",
    "if city_name in india:\n",
    "    print('india')\n",
    "elif city_name in pakistan:\n",
    "    print('pakistan')\n",
    "elif city_name in bangladesh:\n",
    "    print('bangladesh')\n",
    "else:\n",
    "    print('enter correct city')"
   ]
  },
  {
   "cell_type": "markdown",
   "metadata": {},
   "source": [
    "2. Write a program that asks user to enter two cities and it tells you if they both are in same country or not.\n",
    "   For example if I enter mumbai and chennai, it will print \"Both cities are in India\"\n",
    "   but if I enter mumbai and dhaka it should print \"They don't belong to same country\""
   ]
  },
  {
   "cell_type": "code",
   "execution_count": null,
   "metadata": {},
   "outputs": [],
   "source": [
    "city1 = input('Enter the Name of First City :')\n",
    "city2 = input('Enter the Name of Second City :')\n",
    "if city1 and city2 in india:\n",
    "    print('Both cities belong to India')\n",
    "    if city1 and city2 in pakistan:\n",
    "        print('Both cities belong to Pakistan')\n",
    "        if city1 and city2 in bangladesh:\n",
    "            print('Both cities belong to Bangladesh')\n",
    "else:\n",
    "    print('They dont belong to same country')"
   ]
  },
  {
   "cell_type": "markdown",
   "metadata": {},
   "source": [
    "2. Write a python program that can tell you if your sugar is normal or not. Normal fasting level sugar range is 80 to 100.\n",
    "    1. Ask user to enter his fasting sugar level\n",
    "    2. If it is below 80 to 100 range then print that sugar is low\n",
    "    3. If it is above 100 then print that it is high otherwise print that it is normal"
   ]
  },
  {
   "cell_type": "code",
   "execution_count": null,
   "metadata": {},
   "outputs": [],
   "source": [
    "sugar = int(input('Enter Your Normal Fasting Level Sugar :'))\n",
    "if sugar < 80:\n",
    "    print('Sugar is low')\n",
    "elif sugar > 100:\n",
    "    print('Sugar is High')\n",
    "else:\n",
    "    print('Sugar is Normal')"
   ]
  },
  {
   "cell_type": "markdown",
   "metadata": {},
   "source": [
    "1. After flipping a coin 10 times you got this result,\n",
    "\n",
    "result = [\"heads\",\"tails\",\"tails\",\"heads\",\"tails\",\"heads\",\"heads\",\"tails\",\"tails\",\"tails\"]\n",
    "\n",
    "Using for loop figure out how many times you got heads"
   ]
  },
  {
   "cell_type": "code",
   "execution_count": null,
   "metadata": {},
   "outputs": [],
   "source": [
    "result = [\"heads\",\"tails\",\"tails\",\"heads\",\"tails\",\"heads\",\"heads\",\"tails\",\"tails\",\"tails\"]\n",
    "counts = result.count('heads')\n",
    "print('No of Heads are :',counts)\n",
    "for i in result:\n",
    "    if i == 'heads':\n",
    "        print(i)"
   ]
  },
  {
   "cell_type": "markdown",
   "metadata": {},
   "source": [
    "2. Print square of all numbers between 1 to 10 except even numbers"
   ]
  },
  {
   "cell_type": "code",
   "execution_count": null,
   "metadata": {},
   "outputs": [],
   "source": [
    "for i in range(1 , 11):\n",
    "    if i%2!=0:\n",
    "        square = i**2\n",
    "        print(square)"
   ]
  },
  {
   "cell_type": "markdown",
   "metadata": {},
   "source": [
    "3. Your monthly expense list (from Jan to May) looks like this,\n",
    "\n",
    "expense_list = [2340, 2500, 2100, 3100, 2980]\n",
    "\n",
    "Write a program that asks you to enter an expense amount and program\n",
    "should tell you in which month that expense occurred. If expense is not\n",
    "found then it should print that as well."
   ]
  },
  {
   "cell_type": "code",
   "execution_count": null,
   "metadata": {},
   "outputs": [],
   "source": [
    "monthlist = [\"January\", \"February\", \"March\", \"April\", \"May\"]\n",
    "expense_list = [2340, 2500, 2100, 3100, 2980]\n",
    "e = int(input(\"Enter expense amount: \"))\n",
    "month = 1\n",
    "for i in range(len(expense_list)):\n",
    " if e == expense_list[i]:\n",
    "   month = i\n",
    "   break\n",
    "if month != 1:\n",
    " print('You spent',e,'in',monthlist[month])\n",
    "else:\n",
    " print('You didn\\'t spend',e,'in any month')"
   ]
  },
  {
   "cell_type": "markdown",
   "metadata": {},
   "source": [
    "4. Lets say you are running a 5 km race. Write a program that,\n",
    "   1. Upon completing each 1 km asks you \"are you tired?\"\n",
    "   2. If you reply \"yes\" then it should break and print \"you didn't finish the race\"\n",
    "   3. If you reply \"no\" then it should continue and ask \"are you tired\" on every km\n",
    "   4. If you finish all 5 km then it should print congratulations message"
   ]
  },
  {
   "cell_type": "code",
   "execution_count": null,
   "metadata": {},
   "outputs": [],
   "source": [
    "i = 1\n",
    "while i < 5:\n",
    "    ans = input('Are You Tired :')\n",
    "    if ans == 'yes':\n",
    "        print('You didnt Finish the Race')\n",
    "        break\n",
    "    elif ans == 'no':\n",
    "        continue\n",
    "        i+=1  \n",
    "    else :\n",
    "        print('Congratulations you have completed 5 kms')"
   ]
  },
  {
   "cell_type": "markdown",
   "metadata": {},
   "source": [
    "5. Write a program that prints following shape\n",
    "*\n",
    "\n",
    "**\n",
    "\n",
    "***\n",
    "\n",
    "****\n",
    "\n",
    "*****"
   ]
  },
  {
   "cell_type": "code",
   "execution_count": null,
   "metadata": {},
   "outputs": [],
   "source": [
    "num = int(input('Enter the number of rows :'))\n",
    "for i in range(1 , num+1):\n",
    "    for j in range(1 , i+1):\n",
    "        print('*' , end = \" \")\n",
    "    print()"
   ]
  },
  {
   "cell_type": "code",
   "execution_count": 1,
   "metadata": {},
   "outputs": [
    {
     "name": "stdout",
     "output_type": "stream",
     "text": [
      "l\n",
      "l\n"
     ]
    }
   ],
   "source": [
    "str1 = \"Hello\"\n",
    "for s in str1:\n",
    "    if s == 'l':\n",
    "        print(s)\n",
    "    else:\n",
    "        continue"
   ]
  },
  {
   "cell_type": "code",
   "execution_count": null,
   "metadata": {},
   "outputs": [],
   "source": []
  }
 ],
 "metadata": {
  "kernelspec": {
   "display_name": "Python 3",
   "language": "python",
   "name": "python3"
  },
  "language_info": {
   "codemirror_mode": {
    "name": "ipython",
    "version": 3
   },
   "file_extension": ".py",
   "mimetype": "text/x-python",
   "name": "python",
   "nbconvert_exporter": "python",
   "pygments_lexer": "ipython3",
   "version": "3.7.6"
  }
 },
 "nbformat": 4,
 "nbformat_minor": 4
}
