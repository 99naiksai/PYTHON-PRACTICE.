{
 "cells": [
  {
   "cell_type": "markdown",
   "metadata": {},
   "source": [
    "# rstrip() - remove whitespaces from the right\n",
    "\n",
    "# lstrip() - remove whitespaces from the left\n",
    "\n",
    "# strip() - remove whitespaces from both the ends"
   ]
  },
  {
   "cell_type": "code",
   "execution_count": 2,
   "metadata": {},
   "outputs": [
    {
     "name": "stdout",
     "output_type": "stream",
     "text": [
      "## There is some space at both ends % % \n",
      "   ## There is some space at both ends % %\n",
      "## There is some space at both ends % %\n",
      "   ## There is some space at both ends\n",
      "There is some space at both ends\n"
     ]
    }
   ],
   "source": [
    "sentence = \"   ## There is some space at both ends % % \"\n",
    "\n",
    "print(sentence.lstrip())\n",
    "print(sentence.rstrip())\n",
    "print(sentence.strip())\n",
    "print(sentence.rstrip(' % '))\n",
    "print(sentence.rstrip(' % ').lstrip(' # '))"
   ]
  },
  {
   "cell_type": "code",
   "execution_count": null,
   "metadata": {},
   "outputs": [],
   "source": []
  }
 ],
 "metadata": {
  "kernelspec": {
   "display_name": "Python 3",
   "language": "python",
   "name": "python3"
  },
  "language_info": {
   "codemirror_mode": {
    "name": "ipython",
    "version": 3
   },
   "file_extension": ".py",
   "mimetype": "text/x-python",
   "name": "python",
   "nbconvert_exporter": "python",
   "pygments_lexer": "ipython3",
   "version": "3.7.6"
  }
 },
 "nbformat": 4,
 "nbformat_minor": 4
}
