{
 "cells": [
  {
   "cell_type": "code",
   "execution_count": 1,
   "metadata": {},
   "outputs": [
    {
     "name": "stdout",
     "output_type": "stream",
     "text": [
      "Sai\n",
      "22\n",
      "Sai\n"
     ]
    }
   ],
   "source": [
    "class person:\n",
    "    def __init__(self ,name , age):\n",
    "        self.name = name\n",
    "        self.age = age\n",
    "    def myfunc(self):\n",
    "        print(self.name)\n",
    "p1 = person(\"Sai\" , 23)\n",
    "p1.age = 22\n",
    "print(p1.name)\n",
    "print(p1.age)\n",
    "p1.myfunc()"
   ]
  },
  {
   "cell_type": "code",
   "execution_count": 2,
   "metadata": {},
   "outputs": [
    {
     "name": "stdout",
     "output_type": "stream",
     "text": [
      "Sai Naik\n"
     ]
    }
   ],
   "source": [
    "class person:\n",
    "    def __init__(self , fname , lname):\n",
    "        self.firstname = fname\n",
    "        self.lastname  = lname\n",
    "    def printname(self):\n",
    "        print(self.firstname , self.lastname)\n",
    "#first create object using person class method and then print using printname method \n",
    "p1 = person('Sai' , 'Naik')\n",
    "p1.printname()\n"
   ]
  },
  {
   "cell_type": "code",
   "execution_count": 3,
   "metadata": {},
   "outputs": [
    {
     "name": "stdout",
     "output_type": "stream",
     "text": [
      "Rasika Naik\n"
     ]
    }
   ],
   "source": [
    "#When you add the __init__() function , the child class will no longer inherit the parent's __init__() function.\n",
    "#The child's __init__() function overrides the inheritence of the parent's __init__() function.\n",
    "class student(person):\n",
    "    def __init__(self , fname , lname):\n",
    "        person.__init__(self , fname , lname)\n",
    "x = student('Rasika' , 'Naik')\n",
    "x.printname()"
   ]
  },
  {
   "cell_type": "code",
   "execution_count": 4,
   "metadata": {},
   "outputs": [
    {
     "name": "stdout",
     "output_type": "stream",
     "text": [
      "Welcome Rasika Naik to the class of 2018\n"
     ]
    }
   ],
   "source": [
    "#Python also has a super() function that will make the child class inherit all the methods and properties from its parent\n",
    "class student(person):\n",
    "    def __init__(self , fname , lname , year):\n",
    "        super().__init__(fname , lname)\n",
    "        self.graduationyear = year\n",
    "    def welcome(self):\n",
    "        print('Welcome' , self.firstname , self.lastname , 'to the class of' , self.graduationyear)\n",
    "x = student('Rasika' , 'Naik' , 2018)\n",
    "x.welcome()"
   ]
  },
  {
   "cell_type": "code",
   "execution_count": 5,
   "metadata": {},
   "outputs": [
    {
     "name": "stdout",
     "output_type": "stream",
     "text": [
      "1\n",
      "2\n",
      "3\n",
      "4\n",
      "5\n",
      "6\n",
      "7\n",
      "8\n",
      "9\n",
      "10\n",
      "11\n",
      "12\n",
      "13\n",
      "14\n",
      "15\n",
      "16\n",
      "17\n",
      "18\n",
      "19\n",
      "20\n"
     ]
    }
   ],
   "source": [
    "class MyNumbers:\n",
    "    def __iter__(self):\n",
    "        self.a = 1\n",
    "        return self\n",
    "    def __next__(self):\n",
    "        if self.a <=20:\n",
    "            x = self.a\n",
    "            self.a+=1\n",
    "            return x\n",
    "        else:\n",
    "            raise StopIteration\n",
    "myclass = MyNumbers()\n",
    "myiter = iter(myclass)\n",
    "for x in myiter:\n",
    "    print(x)"
   ]
  },
  {
   "cell_type": "code",
   "execution_count": 6,
   "metadata": {},
   "outputs": [
    {
     "name": "stdout",
     "output_type": "stream",
     "text": [
      "False\n"
     ]
    }
   ],
   "source": [
    "class myclass():\n",
    "  def __len__(self):\n",
    "    return 0\n",
    "\n",
    "myobj = myclass()\n",
    "print(bool(myobj))"
   ]
  },
  {
   "cell_type": "code",
   "execution_count": 7,
   "metadata": {},
   "outputs": [
    {
     "name": "stdout",
     "output_type": "stream",
     "text": [
      "YES!\n"
     ]
    }
   ],
   "source": [
    "def myFunction() :\n",
    "  return True\n",
    "\n",
    "if myFunction():\n",
    "  print(\"YES!\")\n",
    "else:\n",
    "  print(\"NO!\")"
   ]
  },
  {
   "cell_type": "code",
   "execution_count": 8,
   "metadata": {},
   "outputs": [
    {
     "name": "stdout",
     "output_type": "stream",
     "text": [
      "Sai\n",
      "23\n"
     ]
    }
   ],
   "source": [
    "class Person:\n",
    "  name = \"John\"\n",
    "  age = 36\n",
    "p1 = Person()\n",
    "class Sai:\n",
    "    name = \"Sai\"\n",
    "    age = 23\n",
    "p2 = Sai()\n",
    "\n",
    "print(p2.name)\n",
    "print(p2.age)"
   ]
  },
  {
   "cell_type": "code",
   "execution_count": 9,
   "metadata": {},
   "outputs": [
    {
     "name": "stdout",
     "output_type": "stream",
     "text": [
      "welcome Sai Naik to the class of 2018\n",
      "welcome Rasika Naik to the class of 2020\n"
     ]
    }
   ],
   "source": [
    "class student(person):\n",
    "    def __init__(self , fname , lname , year):\n",
    "        super().__init__(fname , lname)\n",
    "        self.graduationyear = year\n",
    "    def welcome(self):\n",
    "        print(\"welcome\" , self.firstname , self.lastname ,\"to the class of\" , self.graduationyear)\n",
    "p1 = student(\"Sai\" , \"Naik\" , 2018)\n",
    "p2 = student(\"Rasika\" , \"Naik\" , 2020)\n",
    "p1.welcome()\n",
    "p2.welcome()"
   ]
  },
  {
   "cell_type": "code",
   "execution_count": 10,
   "metadata": {},
   "outputs": [
    {
     "name": "stdout",
     "output_type": "stream",
     "text": [
      "welcome Sai Naik to the class of 2018\n",
      "welcome Rasika Naik to the class of 2020\n"
     ]
    }
   ],
   "source": [
    "class student(person):\n",
    "    def __init__(self , fname , lname , year):\n",
    "        self.firstname = fname\n",
    "        self.lastname = lname\n",
    "        super().__init__(fname , lname)\n",
    "        self.graduationyear = year\n",
    "    def welcome(self):\n",
    "        print(\"welcome\" , self.firstname , self.lastname ,\"to the class of\" , self.graduationyear)\n",
    "p1 = student(\"Sai\" , \"Naik\" , 2018)\n",
    "p2 = student(\"Rasika\" , \"Naik\" , 2020)\n",
    "p1.welcome()\n",
    "p2.welcome()"
   ]
  },
  {
   "cell_type": "code",
   "execution_count": 11,
   "metadata": {},
   "outputs": [
    {
     "name": "stdout",
     "output_type": "stream",
     "text": [
      "Parrot can fly\n",
      "Penguin can't fly\n"
     ]
    }
   ],
   "source": [
    "class Parrot:\n",
    "    def fly(self):\n",
    "        print(\"Parrot can fly\")\n",
    "    def swim(self):\n",
    "        print(\"Parrot can't swim\")\n",
    "class Penguin:\n",
    "    def fly(self):  \n",
    "        print(\"Penguin can't fly\")\n",
    "    def swim(self):\n",
    "        print(\"Penguin can't swim\")\n",
    "def flying_test(bird):\n",
    "    bird.fly()\n",
    "blu = Parrot()\n",
    "peggy = Penguin()\n",
    "flying_test(blu)\n",
    "flying_test(peggy)"
   ]
  },
  {
   "cell_type": "code",
   "execution_count": 12,
   "metadata": {},
   "outputs": [
    {
     "name": "stdout",
     "output_type": "stream",
     "text": [
      "Selling Price :900\n",
      "Selling Price :1000\n"
     ]
    }
   ],
   "source": [
    "class Computer:\n",
    "    def __init__(self):\n",
    "        self.__maxprice = 900\n",
    "    def sell(self):\n",
    "        print(\"Selling Price :{}\" .format(self.__maxprice))\n",
    "    def setMaxPrice(self , price):\n",
    "        self.__maxprice = price\n",
    "c = Computer()\n",
    "c.sell()\n",
    "c.setMaxPrice(1000)\n",
    "c.sell()"
   ]
  },
  {
   "cell_type": "code",
   "execution_count": 13,
   "metadata": {},
   "outputs": [
    {
     "name": "stdout",
     "output_type": "stream",
     "text": [
      "Selling Price: 900\n",
      "Selling Price: 900\n",
      "Selling Price: 1000\n"
     ]
    }
   ],
   "source": [
    "class Computer:\n",
    "\n",
    "    def __init__(self):\n",
    "        self.__maxprice = 900\n",
    "\n",
    "    def sell(self):\n",
    "        print(\"Selling Price: {}\".format(self.__maxprice))\n",
    "\n",
    "    def setMaxPrice(self, price):\n",
    "        self.__maxprice = price\n",
    "\n",
    "c = Computer()\n",
    "c.sell()\n",
    "\n",
    "# change the price\n",
    "c.__maxprice = 1000\n",
    "c.sell()\n",
    "\n",
    "# using setter function\n",
    "c.setMaxPrice(1000)\n",
    "c.sell()"
   ]
  },
  {
   "cell_type": "code",
   "execution_count": 14,
   "metadata": {},
   "outputs": [
    {
     "name": "stdout",
     "output_type": "stream",
     "text": [
      "Hello, and welcome!\n"
     ]
    }
   ],
   "source": [
    "class Parent:\n",
    "    def __init__(self, txt):\n",
    "        self.message = txt\n",
    "\n",
    "    def printmessage(self):\n",
    "        print(self.message)\n",
    "\n",
    "class Child(Parent):\n",
    "    def __init__(self, txt):\n",
    "        super().__init__(txt)\n",
    "\n",
    "x = Child(\"Hello, and welcome!\")\n",
    "\n",
    "x.printmessage()"
   ]
  },
  {
   "cell_type": "code",
   "execution_count": 15,
   "metadata": {},
   "outputs": [
    {
     "name": "stdout",
     "output_type": "stream",
     "text": [
      "Bird is ready\n",
      "Penguin is ready\n",
      "Penguin\n",
      "Swim faster\n",
      "Run faster\n"
     ]
    }
   ],
   "source": [
    "class Bird:\n",
    "    \n",
    "    def __init__(self):\n",
    "        print(\"Bird is ready\")\n",
    "\n",
    "    def whoisThis(self):\n",
    "        print(\"Bird\")\n",
    "\n",
    "    def swim(self):\n",
    "        print(\"Swim faster\")\n",
    "\n",
    "# child class\n",
    "class Penguin(Bird):\n",
    "\n",
    "    def __init__(self):\n",
    "        # call super() function\n",
    "        super().__init__()\n",
    "        print(\"Penguin is ready\")\n",
    "\n",
    "    def whoisThis(self):\n",
    "        print(\"Penguin\")\n",
    "\n",
    "    def run(self):\n",
    "        print(\"Run faster\")\n",
    "peggy = Penguin()\n",
    "peggy.whoisThis()\n",
    "peggy.swim()\n",
    "peggy.run()"
   ]
  },
  {
   "cell_type": "code",
   "execution_count": 16,
   "metadata": {},
   "outputs": [
    {
     "name": "stdout",
     "output_type": "stream",
     "text": [
      "Bird is ready\n",
      "Penguin is ready\n",
      "Penguin\n",
      "Swim Faster\n",
      "Run Faster\n"
     ]
    }
   ],
   "source": [
    "class Bird:\n",
    "    def __init__(self):\n",
    "        print(\"Bird is ready\")\n",
    "    def whoisThis(self):\n",
    "        print(\"Bird\")\n",
    "    def swim(self):\n",
    "        print(\"Swim Faster\")\n",
    "class Penguin(Bird):\n",
    "    def __init__(self):\n",
    "        super().__init__()\n",
    "        print(\"Penguin is ready\")\n",
    "    def whoisThis(self):\n",
    "        print(\"Penguin\")\n",
    "    def run(self):\n",
    "        print(\"Run Faster\")\n",
    "peggy = Penguin()\n",
    "peggy.whoisThis()\n",
    "peggy.swim()\n",
    "peggy.run()"
   ]
  },
  {
   "cell_type": "code",
   "execution_count": 17,
   "metadata": {},
   "outputs": [
    {
     "name": "stdout",
     "output_type": "stream",
     "text": [
      "Blu sings 'Happy'\n",
      "Blu is now dancing\n"
     ]
    }
   ],
   "source": [
    "class Parrot:\n",
    "    \n",
    "    # instance attributes\n",
    "    def __init__(self, name, age):\n",
    "        self.name = name\n",
    "        self.age = age\n",
    "    \n",
    "    # instance method\n",
    "    def sing(self, song):\n",
    "        return \"{} sings {}\".format(self.name, song)\n",
    "\n",
    "    def dance(self):\n",
    "        return \"{} is now dancing\".format(self.name)\n",
    "\n",
    "# instantiate the object\n",
    "blu = Parrot(\"Blu\", 10)\n",
    "\n",
    "# call our instance methods\n",
    "print(blu.sing(\"'Happy'\"))\n",
    "print(blu.dance())"
   ]
  },
  {
   "cell_type": "code",
   "execution_count": 18,
   "metadata": {},
   "outputs": [
    {
     "name": "stdout",
     "output_type": "stream",
     "text": [
      "Blu sings 'Happy' \n",
      "Blu is now dancing\n"
     ]
    }
   ],
   "source": [
    "class Parrot:\n",
    "    def __init__(self ,name ,age):\n",
    "        self.name = name\n",
    "        self.age = age\n",
    "    def sing(self , song):\n",
    "        return \"{} sings {} \".format(self.name , song)\n",
    "    def dance(self):\n",
    "        return \"{} is now dancing\" .format(self.name)\n",
    "blu = Parrot(\"Blu\" , 10)\n",
    "print(blu.sing(\"'Happy'\"))\n",
    "print(blu.dance())"
   ]
  },
  {
   "cell_type": "code",
   "execution_count": 19,
   "metadata": {},
   "outputs": [
    {
     "name": "stdout",
     "output_type": "stream",
     "text": [
      "Blu is a bird\n",
      "Woo is also a bird\n",
      "Blu is 10 year old\n",
      "Woo is 12 year old\n"
     ]
    }
   ],
   "source": [
    "class Parrot:\n",
    "    species = \"bird\"\n",
    "    def __init__(self , name , age):\n",
    "        self.name = name\n",
    "        self.age = age\n",
    "blu = Parrot(\"Blu\" , 10)\n",
    "woo = Parrot(\"Woo\" , 12)\n",
    "print(\"Blu is a {}\" .format(blu.__class__.species))\n",
    "print(\"Woo is also a {}\".format(woo.__class__.species))\n",
    "print(\"{} is {} year old\".format(blu.name ,blu.age))\n",
    "print(\"{} is {} year old\".format(woo.name ,woo.age))"
   ]
  },
  {
   "cell_type": "code",
   "execution_count": 20,
   "metadata": {},
   "outputs": [
    {
     "name": "stdout",
     "output_type": "stream",
     "text": [
      "Enter a number: 10\n",
      "Congratulations! You guessed it correctly.\n"
     ]
    }
   ],
   "source": [
    "number = 10\n",
    "while True:\n",
    "    try:\n",
    "        i_num = int(input(\"Enter a number: \"))\n",
    "        if i_num < number:\n",
    "            raise ValueTooSmallError\n",
    "        elif i_num > number:\n",
    "            raise ValueTooLargeError\n",
    "        break\n",
    "    except ValueTooSmallError:\n",
    "        print(\"This value is too small, try again!\")\n",
    "        print()\n",
    "    except ValueTooLargeError:\n",
    "        print(\"This value is too large, try again!\")\n",
    "        print()\n",
    "\n",
    "print(\"Congratulations! You guessed it correctly.\")"
   ]
  },
  {
   "cell_type": "markdown",
   "metadata": {},
   "source": [
    "# COREY SCHAFER CLASS"
   ]
  },
  {
   "cell_type": "markdown",
   "metadata": {},
   "source": [
    "# Classes and Instances"
   ]
  },
  {
   "cell_type": "code",
   "execution_count": 21,
   "metadata": {},
   "outputs": [
    {
     "name": "stdout",
     "output_type": "stream",
     "text": [
      "<__main__.Employee object at 0x00000227F02F9AC8>\n",
      "<__main__.Employee object at 0x00000227F02F9D08>\n",
      "sai\n",
      "naik\n",
      "sai naik\n"
     ]
    }
   ],
   "source": [
    "class Employee:\n",
    "    pass\n",
    "emp_1 = Employee() #instance variable\n",
    "emp_2 = Employee() #instance variable\n",
    "print(emp_1)\n",
    "print(emp_2)\n",
    "emp_1.first = 'sai' #crating manually\n",
    "emp_1.last = 'naik'\n",
    "emp_1.pay = '100000'\n",
    "emp_1.email = 'sai.naik@gmail.com'\n",
    "emp_2.first = 'rasika'\n",
    "emp_2.last = 'naik'\n",
    "emp_2.pay = '200000'\n",
    "emp_2.email = 'rasika.naik@gmail.com'\n",
    "print(emp_1.first)\n",
    "print(emp_2.last)\n",
    "print('{} {}'.format(emp_1.first ,emp_1.last ))"
   ]
  },
  {
   "cell_type": "code",
   "execution_count": 22,
   "metadata": {},
   "outputs": [
    {
     "name": "stdout",
     "output_type": "stream",
     "text": [
      "sai naik\n",
      "sai naik\n",
      "rasika naik\n",
      "rasika naik\n"
     ]
    }
   ],
   "source": [
    "class Employee:\n",
    "    def __init__(self ,first ,last , pay):\n",
    "        self.first = first\n",
    "        self.last = last\n",
    "        self.pay = pay\n",
    "        self.email = first+'.'+last+'@company.com'\n",
    "    def fullname(self):\n",
    "        print('{} {}'.format(self.first ,self.last ))\n",
    "        \n",
    "        \n",
    "emp_1 = Employee('sai' , 'naik' , 100000) #instance of class Employee #emp_1 will be passed as self\n",
    "emp_2 = Employee('rasika' , 'naik' , 200000)\n",
    "emp_1.fullname()\n",
    "Employee.fullname(emp_1)\n",
    "emp_2.fullname() #notice parenthesis because this is a method instead of attribute\n",
    "Employee.fullname(emp_2)"
   ]
  },
  {
   "cell_type": "code",
   "execution_count": 23,
   "metadata": {},
   "outputs": [
    {
     "name": "stdout",
     "output_type": "stream",
     "text": [
      "sai\n",
      "naik\n",
      "sai.naik@company.com\n",
      "rasika.naik@company.com\n",
      "sai naik\n"
     ]
    }
   ],
   "source": [
    "print(emp_1.first)\n",
    "print(emp_2.last)\n",
    "print(emp_1.email)\n",
    "print(emp_2.email)\n",
    "print('{} {}'.format(emp_1.first ,emp_1.last ))"
   ]
  },
  {
   "cell_type": "markdown",
   "metadata": {},
   "source": [
    "# CLASS VARIABLE"
   ]
  },
  {
   "cell_type": "code",
   "execution_count": 24,
   "metadata": {},
   "outputs": [
    {
     "name": "stdout",
     "output_type": "stream",
     "text": [
      "0\n",
      "{'first': 'sai', 'last': 'naik', 'pay': 100000, 'email': 'sai.naik@company.com', 'raise_amount': 1.05}\n",
      "1.04\n",
      "1.05\n",
      "1.04\n",
      "2\n"
     ]
    }
   ],
   "source": [
    "class Employee:\n",
    "    \n",
    "    nums_of_emps = 0 #class variable\n",
    "    raise_amount = 1.04 #class variable\n",
    "    \n",
    "    def __init__(self ,first ,last , pay):\n",
    "        self.first = first #instance variable\n",
    "        self.last = last #instance variable\n",
    "        self.pay = pay #instance variable\n",
    "        self.email = first+'.'+last+'@company.com'\n",
    "        Employee.nums_of_emps+=1\n",
    "        \n",
    "    def fullname(self):\n",
    "        print('{} {}'.format(self.first ,self.last ))\n",
    "    def apply_raise(self):\n",
    "        self.pay = int(self.pay * self.raise_amount) \n",
    "        \n",
    "        \n",
    "print(Employee.nums_of_emps)        \n",
    "        \n",
    "emp_1 = Employee('sai' , 'naik' , 100000) #instance of class Employee\n",
    "emp_2 = Employee('rasika' , 'naik' , 200000) #instance of class Employee\n",
    "\n",
    "\n",
    "emp_1.raise_amount = 1.05\n",
    "\n",
    "print(emp_1.__dict__)\n",
    "\n",
    "\n",
    "print(Employee.raise_amount)\n",
    "print(emp_1.raise_amount)\n",
    "print(emp_2.raise_amount)\n",
    "\n",
    "print(Employee.nums_of_emps)"
   ]
  },
  {
   "cell_type": "markdown",
   "metadata": {},
   "source": [
    "# CLASS METHODS AND STATIC METHODS"
   ]
  },
  {
   "cell_type": "code",
   "execution_count": 25,
   "metadata": {},
   "outputs": [
    {
     "name": "stdout",
     "output_type": "stream",
     "text": [
      "John.Doe@company.com\n",
      "70000\n",
      "1.04\n",
      "1.04\n",
      "1.04\n",
      "False\n"
     ]
    }
   ],
   "source": [
    "class Employee:\n",
    "    \n",
    "    nums_of_emps = 0 #class variable\n",
    "    raise_amount = 1.04 #class variable\n",
    "    \n",
    "    def __init__(self ,first ,last , pay):\n",
    "        self.first = first #instance variable\n",
    "        self.last = last #instance variable\n",
    "        self.pay = pay #instance variable\n",
    "        self.email = first+'.'+last+'@company.com'\n",
    "        Employee.nums_of_emps+=1\n",
    "        \n",
    "    def fullname(self): #regular method\n",
    "        print('{} {}'.format(self.first ,self.last ))\n",
    "    def apply_raise(self): #regular method\n",
    "        self.pay = int(self.pay * self.raise_amount) \n",
    "    \n",
    "    @classmethod\n",
    "    def set_raise_amt(cls , amount):  #class method\n",
    "        cls.raise_amt = amount     \n",
    "        \n",
    "    @classmethod\n",
    "    def from_string(cls , emp_str_1):\n",
    "        first , last , pay = emp_str_1.split('-')\n",
    "        return cls(first , last , pay)\n",
    "    \n",
    "    @staticmethod\n",
    "    def is_workday(day):\n",
    "        if day.weekday() == 5 or day.weekday() == 6:\n",
    "            return False\n",
    "        return True\n",
    "        \n",
    "        \n",
    "emp_1 = Employee('sai' , 'naik' , 100000) #instance of class Employee\n",
    "emp_2 = Employee('rasika' , 'naik' , 200000) #instance of class Employee\n",
    "\n",
    "\n",
    "emp_str_1 = 'John-Doe-70000'\n",
    "emp_str_2 = 'Steve-Smith-30000'\n",
    "emp_str_3 = 'Jane-Doe-90000'\n",
    "\n",
    "new_emp_1 = Employee.from_string(emp_str_1)\n",
    "\n",
    "print(new_emp_1.email)\n",
    "print(new_emp_1.pay)\n",
    "\n",
    "emp_2.set_raise_amt(1.04)\n",
    "\n",
    "print(Employee.raise_amt)\n",
    "print(emp_1.raise_amt)\n",
    "print(emp_2.raise_amt)\n",
    "\n",
    "import datetime\n",
    "my_date = datetime.date(2016 , 7 , 10)\n",
    "print(Employee.is_workday(my_date))"
   ]
  },
  {
   "cell_type": "markdown",
   "metadata": {},
   "source": [
    "# INHERITENCE-CREATING SUBCLASS"
   ]
  },
  {
   "cell_type": "code",
   "execution_count": 43,
   "metadata": {},
   "outputs": [
    {
     "name": "stdout",
     "output_type": "stream",
     "text": [
      "True\n",
      "False\n",
      "Sue.Smith@company.com\n",
      "rasika naik\n",
      "--> None\n",
      "sai.naik@company.com\n",
      "Python\n"
     ]
    }
   ],
   "source": [
    "class Developer(Employee):\n",
    "    raise_amount = 1.10\n",
    "    def __init__(self ,first ,last , pay , prog_lang):\n",
    "        super().__init__(first ,last , pay)\n",
    "        #Employee.__init__(self , first ,last , pay)\n",
    "        self.prog_lang = prog_lang\n",
    "        \n",
    "class Manager(Employee):\n",
    "    def __init__(self ,first ,last , pay , employees = None):\n",
    "        super().__init__(first ,last , pay)\n",
    "        #Employee.__init__(self , first ,last , pay)\n",
    "        if employees is None:\n",
    "            self.employees = []\n",
    "        else:\n",
    "            self.employees = employees\n",
    "    \n",
    "    def add_emp(self , emp):\n",
    "        if emp not in self.employees:\n",
    "            self.employees.append(emp)\n",
    "            \n",
    "    def remove_emp(self , emp):\n",
    "        if emp in self.employees:\n",
    "            self.employees.remove(emp)\n",
    "            \n",
    "    def print_emps(self):\n",
    "        for emp in self.employees:\n",
    "            print('-->',emp.fullname())\n",
    "\n",
    "dev_1 = Developer('sai' , 'naik' , 100000 , 'Python')\n",
    "dev_2 = Developer('rasika' , 'naik' , 200000, 'Java') \n",
    "        \n",
    "mgr_1 = Manager('Sue' , 'Smith' , 90000 , [dev_1])\n",
    "print(isinstance(mgr_1 , Employee))\n",
    "print(issubclass(Manager , Developer))\n",
    "print(mgr_1.email)\n",
    "mgr_1.add_emp(dev_2)\n",
    "mgr_1.remove_emp(dev_1)\n",
    "mgr_1.print_emps()\n",
    "   \n",
    "print(dev_1.email)\n",
    "dev_1.apply_raise()\n",
    "print(dev_1.prog_lang)"
   ]
  },
  {
   "cell_type": "markdown",
   "metadata": {},
   "source": [
    "# SPECIAL(MAGIC/DUNDER) METHODS"
   ]
  },
  {
   "cell_type": "code",
   "execution_count": 61,
   "metadata": {},
   "outputs": [
    {
     "name": "stdout",
     "output_type": "stream",
     "text": [
      "sai naik\n",
      "None - sai.naik@email.com\n",
      "Employee('sai','naik','100000')\n",
      "sai naik\n",
      "None - sai.naik@email.com\n",
      "3\n",
      "3\n",
      "ab\n",
      "300000\n",
      "rasika naik\n"
     ]
    },
    {
     "ename": "TypeError",
     "evalue": "object of type 'NoneType' has no len()",
     "output_type": "error",
     "traceback": [
      "\u001b[1;31m---------------------------------------------------------------------------\u001b[0m",
      "\u001b[1;31mTypeError\u001b[0m                                 Traceback (most recent call last)",
      "\u001b[1;32m<ipython-input-61-498879dc12ed>\u001b[0m in \u001b[0;36m<module>\u001b[1;34m\u001b[0m\n\u001b[0;32m     41\u001b[0m \u001b[0mprint\u001b[0m\u001b[1;33m(\u001b[0m\u001b[0memp_1\u001b[0m \u001b[1;33m+\u001b[0m \u001b[0memp_2\u001b[0m \u001b[1;33m)\u001b[0m\u001b[1;33m\u001b[0m\u001b[1;33m\u001b[0m\u001b[0m\n\u001b[0;32m     42\u001b[0m \u001b[1;33m\u001b[0m\u001b[0m\n\u001b[1;32m---> 43\u001b[1;33m \u001b[0mprint\u001b[0m\u001b[1;33m(\u001b[0m\u001b[0mlen\u001b[0m\u001b[1;33m(\u001b[0m\u001b[0memp_2\u001b[0m\u001b[1;33m)\u001b[0m\u001b[1;33m)\u001b[0m\u001b[1;33m\u001b[0m\u001b[1;33m\u001b[0m\u001b[0m\n\u001b[0m",
      "\u001b[1;32m<ipython-input-61-498879dc12ed>\u001b[0m in \u001b[0;36m__len__\u001b[1;34m(self)\u001b[0m\n\u001b[0;32m     23\u001b[0m \u001b[1;33m\u001b[0m\u001b[0m\n\u001b[0;32m     24\u001b[0m     \u001b[1;32mdef\u001b[0m \u001b[0m__len__\u001b[0m\u001b[1;33m(\u001b[0m\u001b[0mself\u001b[0m\u001b[1;33m)\u001b[0m\u001b[1;33m:\u001b[0m\u001b[1;33m\u001b[0m\u001b[1;33m\u001b[0m\u001b[0m\n\u001b[1;32m---> 25\u001b[1;33m         \u001b[1;32mreturn\u001b[0m \u001b[0mlen\u001b[0m\u001b[1;33m(\u001b[0m\u001b[0mself\u001b[0m\u001b[1;33m.\u001b[0m\u001b[0mfullname\u001b[0m\u001b[1;33m(\u001b[0m\u001b[1;33m)\u001b[0m\u001b[1;33m)\u001b[0m\u001b[1;33m\u001b[0m\u001b[1;33m\u001b[0m\u001b[0m\n\u001b[0m\u001b[0;32m     26\u001b[0m \u001b[1;33m\u001b[0m\u001b[0m\n\u001b[0;32m     27\u001b[0m \u001b[1;33m\u001b[0m\u001b[0m\n",
      "\u001b[1;31mTypeError\u001b[0m: object of type 'NoneType' has no len()"
     ]
    }
   ],
   "source": [
    "class Employee:\n",
    "    raise_amount = 1.04\n",
    "    \n",
    "    def __init__(self ,first ,last , pay):\n",
    "        self.first = first\n",
    "        self.last = last\n",
    "        self.pay = pay\n",
    "        self.email = first+'.'+last+'@email.com'\n",
    "        \n",
    "    def fullname(self):\n",
    "        print('{} {}'.format(self.first ,self.last ))\n",
    "    def apply_raise(self):\n",
    "        self.pay = int(self.pay * self.raise_amount) \n",
    "\n",
    "    def __repr__(self):\n",
    "        return \"Employee('{}','{}','{}')\".format(self.first , self.last , self.pay)\n",
    "    \n",
    "    def __str__(self):\n",
    "        return '{} - {}'.format(self.fullname(), self.email)\n",
    "    \n",
    "    def __add__(self , other):\n",
    "        return self.pay + other.pay\n",
    "    \n",
    "    def __len__(self):\n",
    "        return len(self.fullname())\n",
    "        \n",
    "        \n",
    "emp_1 = Employee('sai' , 'naik' , 100000)\n",
    "emp_2 = Employee('rasika' , 'naik' , 200000)\n",
    "\n",
    "print(emp_1)\n",
    "\n",
    "print(emp_1.__repr__())\n",
    "print(emp_1.__str__())\n",
    "\n",
    "print(1+2)\n",
    "\n",
    "print(int.__add__(1 , 2))\n",
    "print(str.__add__('a','b'))\n",
    "\n",
    "print(emp_1 + emp_2 )\n",
    "\n",
    "print(len(emp_2))"
   ]
  },
  {
   "cell_type": "markdown",
   "metadata": {},
   "source": [
    "# PROPERTY DECORATORS"
   ]
  },
  {
   "cell_type": "code",
   "execution_count": 78,
   "metadata": {},
   "outputs": [
    {
     "name": "stdout",
     "output_type": "stream",
     "text": [
      "Naik\n",
      "Naik.Sai@email.com\n",
      "Naik Sai\n",
      "Delete Name\n"
     ]
    }
   ],
   "source": [
    "class Employee:\n",
    "    \n",
    "    def __init__(self ,first ,last):\n",
    "        self.first = first\n",
    "        self.last = last\n",
    "    @property\n",
    "    def email(self):\n",
    "        return '{}.{}@email.com'.format(self.first , self.last)\n",
    "    @property\n",
    "    def fullname(self):\n",
    "        return '{} {}'.format(self.first , self.last)\n",
    "    \n",
    "    @fullname.setter\n",
    "    def fullname(self,name):\n",
    "        first , last = name.split(' ')\n",
    "        self.first = first\n",
    "        self.last = last\n",
    "        \n",
    "    @fullname.deleter\n",
    "    def fullname(self):\n",
    "        print('Delete Name')\n",
    "        self.first = None\n",
    "        self.last = None\n",
    "        \n",
    "emp_1 = Employee('Sai' , 'Naik')\n",
    "emp_1.first = 'Rasika'\n",
    "\n",
    "emp_1.fullname = 'Naik Sai'\n",
    "print(emp_1.first)\n",
    "print(emp_1.email)\n",
    "print(emp_1.fullname)\n",
    "\n",
    "del emp_1.fullname\n"
   ]
  },
  {
   "cell_type": "code",
   "execution_count": null,
   "metadata": {},
   "outputs": [],
   "source": []
  }
 ],
 "metadata": {
  "kernelspec": {
   "display_name": "Python 3",
   "language": "python",
   "name": "python3"
  },
  "language_info": {
   "codemirror_mode": {
    "name": "ipython",
    "version": 3
   },
   "file_extension": ".py",
   "mimetype": "text/x-python",
   "name": "python",
   "nbconvert_exporter": "python",
   "pygments_lexer": "ipython3",
   "version": "3.7.6"
  }
 },
 "nbformat": 4,
 "nbformat_minor": 4
}
