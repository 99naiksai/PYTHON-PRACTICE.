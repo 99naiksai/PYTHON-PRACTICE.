{
 "cells": [
  {
   "cell_type": "code",
   "execution_count": 1,
   "metadata": {},
   "outputs": [
    {
     "name": "stdout",
     "output_type": "stream",
     "text": [
      "Sai Arun Naik \n"
     ]
    }
   ],
   "source": [
    "default_order = \"{} {} {} \".format(\"Sai\" , \"Arun\" , \"Naik\")\n",
    "print(default_order)"
   ]
  },
  {
   "cell_type": "code",
   "execution_count": 2,
   "metadata": {},
   "outputs": [
    {
     "name": "stdout",
     "output_type": "stream",
     "text": [
      "Arun Sai Naik\n"
     ]
    }
   ],
   "source": [
    "positional_order = \"{1} {0} {2}\".format(\"Sai\" , \"Arun\" , \"Naik\")\n",
    "print(positional_order)"
   ]
  },
  {
   "cell_type": "code",
   "execution_count": 3,
   "metadata": {},
   "outputs": [
    {
     "name": "stdout",
     "output_type": "stream",
     "text": [
      " Sai Arun Naik \n"
     ]
    }
   ],
   "source": [
    "keyword_order = \" {s} {a} {n} \" .format(s=\"Sai\" , a=\"Arun\" , n=\"Naik\" )\n",
    "print(keyword_order)"
   ]
  },
  {
   "cell_type": "code",
   "execution_count": null,
   "metadata": {},
   "outputs": [],
   "source": []
  },
  {
   "cell_type": "code",
   "execution_count": 1,
   "metadata": {},
   "outputs": [
    {
     "name": "stdout",
     "output_type": "stream",
     "text": [
      "data analysis using pandas\n"
     ]
    }
   ],
   "source": [
    "a = \"data\"\n",
    "b = \"analysis\"\n",
    "c = \"pandas\"\n",
    "print(\"{0} {1} using {2}\" .format(a,b,c))\n"
   ]
  },
  {
   "cell_type": "code",
   "execution_count": 2,
   "metadata": {},
   "outputs": [
    {
     "name": "stdout",
     "output_type": "stream",
     "text": [
      "I want 3 pieces of item 567 for 49.95 dollars.\n"
     ]
    }
   ],
   "source": [
    "quantity = 3\n",
    "itemno = 567\n",
    "price = 49.95\n",
    "myorder = \"I want {} pieces of item {} for {} dollars.\"\n",
    "print(myorder.format(quantity, itemno, price))"
   ]
  },
  {
   "cell_type": "code",
   "execution_count": 1,
   "metadata": {},
   "outputs": [
    {
     "name": "stdout",
     "output_type": "stream",
     "text": [
      "Enter your First Name :sai\n",
      "Enter your Middle Name :arun\n",
      "Enter your Last Name :naik\n",
      "My Name is sai arun naik\n"
     ]
    }
   ],
   "source": [
    "fname = input('Enter your First Name :')\n",
    "mname = input('Enter your Middle Name :')\n",
    "lname = input('Enter your Last Name :')\n",
    "print(\"My Name is {} {} {}\".format(fname , mname , lname))"
   ]
  },
  {
   "cell_type": "markdown",
   "metadata": {},
   "source": [
    "1. Create 3 variables to store street, city and country, now create address variable to\n",
    "store entire address. Use two ways of creating this variable, one using + operator and the other using f-string"
   ]
  },
  {
   "cell_type": "code",
   "execution_count": 2,
   "metadata": {},
   "outputs": [
    {
     "name": "stdout",
     "output_type": "stream",
     "text": [
      "Enter street name :GORAI\n",
      "Enter city name :GORAI\n",
      "Enter country name :GORAI\n",
      "My street name is GORAI and city name is GORAI and country name is GORAI\n",
      "My street name is GORAI and city name is GORAI and country name is  GORAI\n"
     ]
    }
   ],
   "source": [
    "street = input('Enter street name :')\n",
    "city = input('Enter city name :')\n",
    "country = input('Enter country name :')\n",
    "print(\"My street name is {} and city name is {} and country name is {}\".format(street , city , country))\n",
    "print(\"My street name is\" , street, \"and city name is\" , city ,  \"and country name is \" , country)"
   ]
  },
  {
   "cell_type": "markdown",
   "metadata": {},
   "source": [
    "Create two variables to store how many fruits and vegetables you eat in a day.\n",
    "Now Print \"I eat x veggies and y fruits daily\" where x and y presents vegetables and fruits that you eat everyday.\n",
    "Use python f string for this."
   ]
  },
  {
   "cell_type": "code",
   "execution_count": 3,
   "metadata": {},
   "outputs": [
    {
     "name": "stdout",
     "output_type": "stream",
     "text": [
      "Enter No of Fruits you eat in a day :5\n",
      "Enter No of Vegetables you eat in a day :5\n",
      "I eat 5 fruits and 5 vegetables daily\n"
     ]
    }
   ],
   "source": [
    "fruits = input('Enter No of Fruits you eat in a day :')\n",
    "vegetables = input('Enter No of Vegetables you eat in a day :')\n",
    "print('I eat {} fruits and {} vegetables daily'.format(fruits , vegetables))"
   ]
  },
  {
   "cell_type": "markdown",
   "metadata": {},
   "source": [
    "1. Write a program that can find area of a triangle. It should take base and height as\n",
    "an input from user and using that it should print an area of a triangle"
   ]
  },
  {
   "cell_type": "code",
   "execution_count": 4,
   "metadata": {},
   "outputs": [
    {
     "name": "stdout",
     "output_type": "stream",
     "text": [
      "Enter height of Triangle :12\n",
      "Enter base of Triangle :12\n",
      "Area of Triangle is  72.0\n"
     ]
    }
   ],
   "source": [
    "height = float(input(\"Enter height of Triangle :\"))\n",
    "base = float(input(\"Enter base of Triangle :\"))\n",
    "area_of_triangle =  0.5 * base * height\n",
    "print(\"Area of Triangle is \",area_of_triangle)"
   ]
  },
  {
   "cell_type": "markdown",
   "metadata": {},
   "source": [
    "2. Write a program that takes file name with extension as an input and\n",
    "prints just the file name without extension (you can assume that file extensions\n",
    "are always 3 character long)"
   ]
  },
  {
   "cell_type": "code",
   "execution_count": 6,
   "metadata": {},
   "outputs": [
    {
     "name": "stdout",
     "output_type": "stream",
     "text": [
      "Enter a file name with extension:WWWW\n",
      "File name without extension: \n"
     ]
    }
   ],
   "source": [
    "file_name = input(\"Enter a file name with extension:\")\n",
    "print(\"File name without extension:\",file_name[:len(file_name)-4])"
   ]
  },
  {
   "cell_type": "code",
   "execution_count": 2,
   "metadata": {},
   "outputs": [
    {
     "name": "stdout",
     "output_type": "stream",
     "text": [
      "Enter a number :9\n",
      "The square root of 9 is 3.0\n"
     ]
    }
   ],
   "source": [
    "num = int(input(\"Enter a number :\"))\n",
    "ans = num ** 0.5\n",
    "print(\"The square root of {0} is {1}\".format(num , ans))"
   ]
  },
  {
   "cell_type": "code",
   "execution_count": 3,
   "metadata": {},
   "outputs": [
    {
     "name": "stdout",
     "output_type": "stream",
     "text": [
      "Enter 1st no :1\n",
      "Enter 2nd no :2\n",
      "The sum of 1 and 2 is 3\n"
     ]
    }
   ],
   "source": [
    "num1 = int(input(\"Enter 1st no :\"))\n",
    "num2 = int(input(\"Enter 2nd no :\"))\n",
    "total = num1 + num2\n",
    "print(\"The sum of {0} and {1} is {2}\" .format(num1 , num2 , total))"
   ]
  },
  {
   "cell_type": "code",
   "execution_count": null,
   "metadata": {},
   "outputs": [],
   "source": []
  }
 ],
 "metadata": {
  "kernelspec": {
   "display_name": "Python 3",
   "language": "python",
   "name": "python3"
  },
  "language_info": {
   "codemirror_mode": {
    "name": "ipython",
    "version": 3
   },
   "file_extension": ".py",
   "mimetype": "text/x-python",
   "name": "python",
   "nbconvert_exporter": "python",
   "pygments_lexer": "ipython3",
   "version": "3.7.6"
  }
 },
 "nbformat": 4,
 "nbformat_minor": 4
}
