{
 "cells": [
  {
   "cell_type": "markdown",
   "metadata": {},
   "source": [
    "# FIBONACCI SEQUENCE"
   ]
  },
  {
   "cell_type": "code",
   "execution_count": 1,
   "metadata": {},
   "outputs": [
    {
     "name": "stdout",
     "output_type": "stream",
     "text": [
      "Enter a number :9\n",
      "Fibonacci sequence upto  9 :\n",
      "0  1  1  2  3  5  8  13  21  \n"
     ]
    }
   ],
   "source": [
    "n_terms = int(input(\"Enter a number :\"))\n",
    "n1 = 0\n",
    "n2 = 1\n",
    "count = 0\n",
    "\n",
    "print(\"Fibonacci sequence upto \" , n_terms , \":\")\n",
    "while count < n_terms:\n",
    "    print(n1 , end = '  ')\n",
    "    nth = n1 + n2\n",
    "    n1 = n2\n",
    "    n2 = nth\n",
    "    count += 1\n",
    "print()\n",
    "\n",
    "\n"
   ]
  },
  {
   "cell_type": "markdown",
   "metadata": {},
   "source": [
    "# PRIME NUMBER"
   ]
  },
  {
   "cell_type": "code",
   "execution_count": 2,
   "metadata": {},
   "outputs": [
    {
     "name": "stdout",
     "output_type": "stream",
     "text": [
      "Enter a Number :9\n",
      "9 is not a prime number \n",
      "3 times 3 is 9\n"
     ]
    }
   ],
   "source": [
    "num = int(input(\"Enter a Number :\"))\n",
    "sai = 1\n",
    "for i in range(2 , num):\n",
    "    if(num % i) == 0:\n",
    "        print(num , \"is not a prime number \")\n",
    "        print(i , \"times\" , num//i , \"is\" , num)\n",
    "        sai = 0\n",
    "        break\n",
    "if sai == 1:\n",
    "    print(num , \"is a prime number\")"
   ]
  },
  {
   "cell_type": "code",
   "execution_count": 3,
   "metadata": {},
   "outputs": [
    {
     "name": "stdout",
     "output_type": "stream",
     "text": [
      "4\n"
     ]
    }
   ],
   "source": [
    "my_range = range(1 , 5)\n",
    "a = 0\n",
    "for val in my_range:\n",
    "    a = a + 1\n",
    "print(a)"
   ]
  },
  {
   "cell_type": "markdown",
   "metadata": {},
   "source": [
    "# SUM OF POSITIVE NUMBERS"
   ]
  },
  {
   "cell_type": "code",
   "execution_count": null,
   "metadata": {},
   "outputs": [
    {
     "name": "stdout",
     "output_type": "stream",
     "text": [
      "Enter a number :9\n"
     ]
    }
   ],
   "source": [
    "num = int(input(\"Enter a number :\"))\n",
    "if num < 0:\n",
    "    print(\"Please enter Positive Number :\")\n",
    "else:\n",
    "    sum = 0\n",
    "    while(num > 0):\n",
    "        sum = sum + num\n",
    "        num += 1\n",
    "print(\"The sum is \",sum)"
   ]
  },
  {
   "cell_type": "markdown",
   "metadata": {},
   "source": [
    "# TABLE"
   ]
  },
  {
   "cell_type": "code",
   "execution_count": null,
   "metadata": {},
   "outputs": [],
   "source": [
    "num =int(input(\"Enter a number :\"))\n",
    "for i in range(1 , 11):\n",
    "    print(num , \"X\" , i , \"=\" , num*i)"
   ]
  },
  {
   "cell_type": "markdown",
   "metadata": {},
   "source": [
    "# FACORIAL USING FOR LOOP"
   ]
  },
  {
   "cell_type": "code",
   "execution_count": 19,
   "metadata": {},
   "outputs": [
    {
     "name": "stdout",
     "output_type": "stream",
     "text": [
      "Enter a number :5\n",
      "The factorial of 5 is 120\n"
     ]
    }
   ],
   "source": [
    "num = int(input(\"Enter a number :\"))\n",
    "factorial = 1\n",
    "if num < 0:\n",
    "    print(\"Sorry , factorial does not exist for  negative numbers\")\n",
    "elif num == 0 :\n",
    "    print(\"The Factorial of 0 is 1\")\n",
    "else :\n",
    "    for i in range(1 , num + 1):\n",
    "        factorial = factorial * i\n",
    "    print(\"The factorial of\" , num , \"is\" , factorial)"
   ]
  },
  {
   "cell_type": "code",
   "execution_count": 18,
   "metadata": {},
   "outputs": [
    {
     "name": "stdout",
     "output_type": "stream",
     "text": [
      "Enter a Number :5\n",
      "The factorial of 5 is 120\n"
     ]
    }
   ],
   "source": [
    "#factorial using for loop\n",
    "num = int(input('Enter a Number :'))\n",
    "result = 1\n",
    "for i in range(num , 0 , -1):\n",
    "    result = result * i\n",
    "print('The factorial of' , num , 'is' , result)"
   ]
  },
  {
   "cell_type": "code",
   "execution_count": 20,
   "metadata": {},
   "outputs": [
    {
     "name": "stdout",
     "output_type": "stream",
     "text": [
      "Enter a Number :9\n",
      "The result of 9 is 362880\n"
     ]
    }
   ],
   "source": [
    "# Factorial using recursion.\n",
    "# If the function call itself it is recursive function. \n",
    "\n",
    "def fact(n):\n",
    "    if n == 0:\n",
    "        return 1\n",
    "    else :\n",
    "        return n * fact(n-1) #recursion\n",
    "\n",
    "n = int(input('Enter a Number :'))\n",
    "result = fact(n)\n",
    "print('The result of' ,n, 'is' , result)"
   ]
  },
  {
   "cell_type": "markdown",
   "metadata": {},
   "source": [
    "# fibonacci Series"
   ]
  },
  {
   "cell_type": "code",
   "execution_count": null,
   "metadata": {},
   "outputs": [],
   "source": [
    "\n",
    "n = int(input('Enter how many number you want to print in this series :'))\n",
    "first = 0\n",
    "second = 1\n",
    "for i in range(n):\n",
    "    print(first)\n",
    "    temp = first\n",
    "    first = second\n",
    "    second = second + temp"
   ]
  },
  {
   "cell_type": "markdown",
   "metadata": {},
   "source": [
    "# PRIME NUMBER OR NOT"
   ]
  },
  {
   "cell_type": "code",
   "execution_count": null,
   "metadata": {},
   "outputs": [],
   "source": [
    "num = int(input(\"Enter a number :\"))\n",
    "if num > 1:\n",
    "    for i in range(2 , num):\n",
    "        if(num % i) == 0:\n",
    "            print(num ,\"is not a prime number\")\n",
    "            break\n",
    "    else :\n",
    "            print(num , \"is a prime number\")\n",
    "else :\n",
    "    print(num , \"is not a prime number\")"
   ]
  },
  {
   "cell_type": "code",
   "execution_count": null,
   "metadata": {},
   "outputs": [],
   "source": [
    "lower = int(input('Enter a lower interval :'))\n",
    "upper = int(input('Enter a upper interval :'))\n",
    "for num in range(lower , upper+1):\n",
    "    if num > 1:\n",
    "        for i in range(2 , num):\n",
    "            if(num % i) == 0:\n",
    "                break\n",
    "        else :\n",
    "            print(num , 'is prime number')"
   ]
  },
  {
   "cell_type": "markdown",
   "metadata": {},
   "source": [
    "# Palindromic Prime Number"
   ]
  },
  {
   "cell_type": "code",
   "execution_count": 65,
   "metadata": {},
   "outputs": [
    {
     "name": "stdout",
     "output_type": "stream",
     "text": [
      "Enter the Lower Limit :1\n",
      "Enter the Upper Limit :1000\n",
      "2\n",
      "3\n",
      "5\n",
      "7\n",
      "11\n",
      "101\n",
      "131\n",
      "151\n",
      "181\n",
      "191\n",
      "313\n",
      "353\n",
      "373\n",
      "383\n",
      "727\n",
      "757\n",
      "787\n",
      "797\n",
      "919\n",
      "929\n"
     ]
    }
   ],
   "source": [
    "lower = int(input('Enter the Lower Limit :'))\n",
    "upper = int(input('Enter the Upper Limit :'))\n",
    "for num in range(lower , upper+1):\n",
    "    reverse = int(str(num)[::-1])\n",
    "    if num == reverse:\n",
    "        if num > 1:\n",
    "            for i in range(2 , num):\n",
    "                if num%i == 0:\n",
    "                    break\n",
    "            else:\n",
    "                print(num)"
   ]
  },
  {
   "cell_type": "markdown",
   "metadata": {},
   "source": [
    "# GREATEST OF THREE NUMBER"
   ]
  },
  {
   "cell_type": "code",
   "execution_count": null,
   "metadata": {},
   "outputs": [],
   "source": [
    "num1 = int(input(\"Enter first Number :\"))\n",
    "num2 = int(input(\"Enter Second Number :\"))\n",
    "num3 = int(input(\"Enter Third Number :\"))\n",
    "if(num1 > num2):\n",
    "    print(\"{} is greatest\".format(num1))\n",
    "elif(num2 > num3):\n",
    "    print(\"{} is greatest\".format(num2))\n",
    "else:\n",
    "    print(\"{} is greatest\".format(num3))"
   ]
  },
  {
   "cell_type": "markdown",
   "metadata": {},
   "source": [
    "# LEAP YEAR OR NOT"
   ]
  },
  {
   "cell_type": "code",
   "execution_count": null,
   "metadata": {},
   "outputs": [],
   "source": [
    "num = int(input(\"Enter a number :\"))\n",
    "if(num % 4) == 0:\n",
    "    if(num % 100) == 0:\n",
    "        if(num % 400) == 0:\n",
    "            print(\"Year is a Leap Year\")\n",
    "        else:\n",
    "            print(\"Year is not a Leap Year\")\n",
    "    else:\n",
    "        print(\"Year is not a Leap Year\")\n",
    "else:\n",
    "    print(\"Year is not a Leap Year\")\n",
    "        "
   ]
  },
  {
   "cell_type": "markdown",
   "metadata": {},
   "source": [
    "# EVEN OR ODD NUMBER"
   ]
  },
  {
   "cell_type": "code",
   "execution_count": null,
   "metadata": {},
   "outputs": [],
   "source": [
    "num = int(input(\"Enter a Number :\"))\n",
    "if (num % 2)==0 :\n",
    "    print(\"Even Number\")\n",
    "else:\n",
    "    print(\"Odd Number\")"
   ]
  },
  {
   "cell_type": "markdown",
   "metadata": {},
   "source": [
    "# POSITIVE OR NEGATIVE NUMBER"
   ]
  },
  {
   "cell_type": "code",
   "execution_count": null,
   "metadata": {},
   "outputs": [],
   "source": [
    "num = int(input(\"Enter a Number :\"))\n",
    "if num > 0:\n",
    "    print(\"Number Positive\")\n",
    "elif num < 0:\n",
    "    print(\"Number Negative\")\n",
    "else:\n",
    "    print(\"Number Zero\")\n",
    "    "
   ]
  },
  {
   "cell_type": "markdown",
   "metadata": {},
   "source": [
    "# TEMPERATURE TO FARENHEIT"
   ]
  },
  {
   "cell_type": "code",
   "execution_count": null,
   "metadata": {},
   "outputs": [],
   "source": [
    "celcius = float(input(\"Enter a temperature to convert from celcius to farenheit :\"))\n",
    "Farenheit = celcius * 1.8 + 32\n",
    "print(\"Farenheit :\" , Farenheit)"
   ]
  },
  {
   "cell_type": "markdown",
   "metadata": {},
   "source": [
    "# KILOMETERS TO MILES"
   ]
  },
  {
   "cell_type": "code",
   "execution_count": null,
   "metadata": {},
   "outputs": [],
   "source": [
    "km = float(input(\"Enter a number for conversion of kilometres to miles :\"))\n",
    "miles = km * 0.62137\n",
    "print(\"miles = \" , miles)"
   ]
  },
  {
   "cell_type": "markdown",
   "metadata": {},
   "source": [
    "# SWAPPING"
   ]
  },
  {
   "cell_type": "code",
   "execution_count": null,
   "metadata": {},
   "outputs": [],
   "source": [
    "#without temporary\n",
    "x = 10\n",
    "y = 20\n",
    "x , y = y , x\n",
    "print(\"x = \" , x)\n",
    "print(\"y = \" , y)"
   ]
  },
  {
   "cell_type": "code",
   "execution_count": null,
   "metadata": {
    "scrolled": true
   },
   "outputs": [],
   "source": [
    "#with temporary\n",
    "a = 45\n",
    "b = 65\n",
    "temp = a\n",
    "a = b\n",
    "b = temp\n",
    "print(\"The value of a and b after swapping is {0} {1}\".format(a , b))"
   ]
  },
  {
   "cell_type": "code",
   "execution_count": null,
   "metadata": {},
   "outputs": [],
   "source": [
    "#Swapping without temporary variable\n",
    "a = int(input('Enter value for a :'))\n",
    "b = int(input('Enter value for b :'))\n",
    "a = a + b\n",
    "b = a - b\n",
    "a = a - b\n",
    "print('After Swapping ')\n",
    "print('The value of a is :',a)\n",
    "print('The value of b is :',b)"
   ]
  },
  {
   "cell_type": "markdown",
   "metadata": {},
   "source": [
    "# AREA OF TRIANGLE"
   ]
  },
  {
   "cell_type": "code",
   "execution_count": null,
   "metadata": {},
   "outputs": [],
   "source": [
    "s1 = int(input(\"Enter the first side of triangle :\"))\n",
    "s2 = int(input(\"Enter the second side of triangle :\"))\n",
    "s3 = int(input(\"Enter the third side of triangle :\"))\n",
    "s = (s1 + s2 + s3) / 2\n",
    "area = (s * (s - s1) * (s - s2) * (s - s3)) ** 0.5\n",
    "print(\"The area of triangle is\" , area)"
   ]
  },
  {
   "cell_type": "markdown",
   "metadata": {},
   "source": [
    "# GUESS CORRECT NUMBER"
   ]
  },
  {
   "cell_type": "code",
   "execution_count": null,
   "metadata": {},
   "outputs": [],
   "source": [
    "number = 10\n",
    "while True:\n",
    "    try:\n",
    "        i_num = int(input(\"Enter a number: \"))\n",
    "        if i_num < number:\n",
    "            raise ValueTooSmallError\n",
    "        elif i_num > number:\n",
    "            raise ValueTooLargeError\n",
    "        break\n",
    "    except ValueTooSmallError:\n",
    "        print(\"This value is too small, try again!\")\n",
    "        print()\n",
    "    except ValueTooLargeError:\n",
    "        print(\"This value is too large, try again!\")\n",
    "        print()\n",
    "\n",
    "print(\"Congratulations! You guessed it correctly.\")"
   ]
  },
  {
   "cell_type": "markdown",
   "metadata": {},
   "source": [
    "# RECIPROCAL"
   ]
  },
  {
   "cell_type": "code",
   "execution_count": null,
   "metadata": {},
   "outputs": [],
   "source": [
    "try :\n",
    "    num = int(input(\"Enter a Number :\"))\n",
    "    assert num % 2 == 0 #assert = Test if a condition returns True\n",
    "except:\n",
    "    print(\"Not an even number\")\n",
    "else:\n",
    "    reciprocal = 1/num\n",
    "    print(reciprocal)"
   ]
  },
  {
   "cell_type": "markdown",
   "metadata": {},
   "source": [
    "# POSITIVE NUMBER"
   ]
  },
  {
   "cell_type": "code",
   "execution_count": null,
   "metadata": {},
   "outputs": [],
   "source": [
    "try :\n",
    "    a = int(input(\"Enter a positive number :\"))\n",
    "    if a <= 0:\n",
    "        raise ValueError(\"This is not a positive number\")\n",
    "except ValueError as ve:\n",
    "    print(ve)"
   ]
  },
  {
   "cell_type": "markdown",
   "metadata": {},
   "source": [
    "# RECIPROCAL ONLY"
   ]
  },
  {
   "cell_type": "code",
   "execution_count": null,
   "metadata": {},
   "outputs": [],
   "source": [
    "import sys\n",
    "randomList = ['a' , 0 ,2]\n",
    "for entry in randomList:\n",
    "    try:\n",
    "        print(\"The entry is :\", entry)\n",
    "        r = 1/int(entry)\n",
    "        break\n",
    "    except:\n",
    "        print(\"Oops!\", sys.exc_info()[0] , \"occured\")\n",
    "        print(\"Next Entry\")\n",
    "        print()\n",
    "print(\"The Reciprocal of \" ,entry ,\"is\",r  )"
   ]
  },
  {
   "cell_type": "code",
   "execution_count": null,
   "metadata": {},
   "outputs": [],
   "source": [
    "import sys\n",
    "\n",
    "randomList = ['a', 0, 2]\n",
    "\n",
    "for entry in randomList:\n",
    "    try:\n",
    "        print(\"The entry is\", entry)\n",
    "        r = 1/int(entry)\n",
    "        break\n",
    "    except Exception as e:\n",
    "        print(\"Oops!\", e.__class__, \"occurred.\")\n",
    "        print(\"Next entry.\")\n",
    "        print()\n",
    "print(\"The reciprocal of\", entry, \"is\", r)"
   ]
  },
  {
   "cell_type": "markdown",
   "metadata": {},
   "source": [
    "# Armstrong Number"
   ]
  },
  {
   "cell_type": "code",
   "execution_count": null,
   "metadata": {},
   "outputs": [],
   "source": [
    "for i in range(100):\n",
    "    num = i\n",
    "    result = 0\n",
    "    n = len(str(num))\n",
    "    while(i!=0):\n",
    "        digit = i%10\n",
    "        result = result + digit**n\n",
    "        i = i//10\n",
    "    if result == num:\n",
    "        print(result) "
   ]
  },
  {
   "cell_type": "markdown",
   "metadata": {},
   "source": [
    "# PERFECT NUMBER"
   ]
  },
  {
   "cell_type": "code",
   "execution_count": null,
   "metadata": {},
   "outputs": [],
   "source": [
    "# Perfect Number\n",
    "\n",
    "num = int(input('Enter a Number to check whether it is Perfect or Not :'))\n",
    "result = 0\n",
    "for i in range(1,num):\n",
    "    if (num % i) == 0:\n",
    "        result = result + i\n",
    "if result == num:\n",
    "    print(num , 'is perfect number')\n",
    "else:\n",
    "    print(num , 'is not a perfect number')"
   ]
  },
  {
   "cell_type": "markdown",
   "metadata": {},
   "source": [
    "# Program to check Perfect Number in a range"
   ]
  },
  {
   "cell_type": "code",
   "execution_count": 59,
   "metadata": {},
   "outputs": [
    {
     "name": "stdout",
     "output_type": "stream",
     "text": [
      "Enter The Lower Range :1 \n",
      "Enter The Upper Range :9\n",
      "6\n"
     ]
    }
   ],
   "source": [
    "#6 = 1 + 2 + 3 = 3 x 2 x 1\n",
    "\n",
    "lower = int(input('Enter The Lower Range :'))\n",
    "upper = int(input('Enter The Upper Range :'))\n",
    "\n",
    "for num in range(lower , upper+1):\n",
    "    result = 0\n",
    "    for i in range(1 , num):\n",
    "        if num%i == 0:\n",
    "            result = i + result\n",
    "    if num == result:\n",
    "        print(num)"
   ]
  },
  {
   "cell_type": "markdown",
   "metadata": {},
   "source": [
    "# Sum of Digit of Positive Integer Number using While Loop"
   ]
  },
  {
   "cell_type": "code",
   "execution_count": 8,
   "metadata": {},
   "outputs": [
    {
     "name": "stdout",
     "output_type": "stream",
     "text": [
      "Enter a Positive Integer Number :89\n",
      "sum is : 17\n"
     ]
    }
   ],
   "source": [
    "num = int(input('Enter a Positive Integer Number :'))\n",
    "result = 0\n",
    "while num > 0:\n",
    "    digit = num % 10\n",
    "    result = result + digit\n",
    "    num = num // 10\n",
    "print('sum is :' , result)"
   ]
  },
  {
   "cell_type": "markdown",
   "metadata": {},
   "source": [
    "# Sum of Digit of Positive Integer Number using For Loop"
   ]
  },
  {
   "cell_type": "code",
   "execution_count": 9,
   "metadata": {},
   "outputs": [
    {
     "name": "stdout",
     "output_type": "stream",
     "text": [
      "Enter a Positive Integer Number :9\n",
      "sum is : 9\n"
     ]
    }
   ],
   "source": [
    "num = int(input('Enter a Positive Integer Number :'))\n",
    "result = 0\n",
    "for i in range(len(str(num))):\n",
    "    digit = num % 10\n",
    "    result = result + digit\n",
    "    num = num // 10\n",
    "print('sum is :' , result)"
   ]
  },
  {
   "cell_type": "code",
   "execution_count": 13,
   "metadata": {},
   "outputs": [
    {
     "name": "stdout",
     "output_type": "stream",
     "text": [
      "Enter a Positive Integer Number :89\n",
      "sum is : 17\n"
     ]
    }
   ],
   "source": [
    "num = int(input('Enter a Positive Integer Number :'))\n",
    "result = 0\n",
    "for i in range(num):\n",
    "    digit = num % 10\n",
    "    result = result + digit\n",
    "    num = num // 10\n",
    "print('sum is :' , result)"
   ]
  },
  {
   "cell_type": "code",
   "execution_count": 16,
   "metadata": {},
   "outputs": [
    {
     "name": "stdout",
     "output_type": "stream",
     "text": [
      "Enter Number for Lower Range :1\n",
      "Enter Number for Upper Range :30\n",
      "2\n",
      "3\n",
      "5\n",
      "7\n",
      "11\n",
      "13\n",
      "17\n",
      "19\n",
      "23\n",
      "29\n"
     ]
    }
   ],
   "source": [
    "lower = int(input(\"Enter Number for Lower Range :\"))\n",
    "upper = int(input(\"Enter Number for Upper Range :\"))\n",
    "for num in range(lower , upper):\n",
    "    if num > 1 :\n",
    "        for i in range(2 , num):\n",
    "            if(num % i) == 0:\n",
    "                break\n",
    "        else:\n",
    "            print(num)"
   ]
  },
  {
   "cell_type": "markdown",
   "metadata": {},
   "source": [
    "# GCD or HCF of two numbers using Recursion"
   ]
  },
  {
   "cell_type": "code",
   "execution_count": 34,
   "metadata": {},
   "outputs": [
    {
     "name": "stdout",
     "output_type": "stream",
     "text": [
      "Enter a Number :7\n",
      "Enter a Number :4\n",
      "1\n"
     ]
    }
   ],
   "source": [
    "num1 = int(input('Enter a Number :'))\n",
    "num2 = int(input('Enter a Number :'))\n",
    "def ComputeGCD(a , b):\n",
    "    if b == 0:\n",
    "        return a\n",
    "    else :\n",
    "        return ComputeGCD(b , a % b)\n",
    "\n",
    "print(ComputeGCD(num1, num2))"
   ]
  },
  {
   "cell_type": "markdown",
   "metadata": {},
   "source": [
    "# LCM of two numbers"
   ]
  },
  {
   "cell_type": "code",
   "execution_count": 37,
   "metadata": {},
   "outputs": [
    {
     "name": "stdout",
     "output_type": "stream",
     "text": [
      "Enter a First Number :2\n",
      "Enter a Second Number :3\n",
      "The LCM of  2 and 3 is 6\n"
     ]
    }
   ],
   "source": [
    "def ComputeLCM(n1 , n2):\n",
    "    if n1 > n2 :\n",
    "        higher =  n1\n",
    "    else:\n",
    "        higher =  n2\n",
    "    value = higher\n",
    "    while True :\n",
    "        if higher % n1 == 0 and higher % n2 == 0:\n",
    "            print(\"The LCM of \" , n1 , 'and' , n2 , 'is' , higher)\n",
    "            break\n",
    "        else :\n",
    "            higher = higher + value\n",
    "num1 = int(input('Enter a First Number :'))\n",
    "num2 = int(input('Enter a Second Number :'))\n",
    "ComputeLCM(num1 , num2)"
   ]
  },
  {
   "cell_type": "markdown",
   "metadata": {},
   "source": [
    "## Palindrome Program "
   ]
  },
  {
   "cell_type": "code",
   "execution_count": 42,
   "metadata": {},
   "outputs": [
    {
     "name": "stdout",
     "output_type": "stream",
     "text": [
      "Enter The String :121\n",
      "Reversed String : 121\n",
      "String is Palindrome\n"
     ]
    }
   ],
   "source": [
    "# Reverse the String and Number\n",
    "# str_name[start:end:step]\n",
    "\n",
    "string = input('Enter The String :')\n",
    "rev_string = string[: :-1]\n",
    "print('Reversed String :' , rev_string)\n",
    "if string == rev_string :\n",
    "    print('String is Palindrome')\n",
    "else :\n",
    "    print('String is not Palindrome')"
   ]
  },
  {
   "cell_type": "code",
   "execution_count": 44,
   "metadata": {},
   "outputs": [
    {
     "name": "stdout",
     "output_type": "stream",
     "text": [
      "Enter The Number :121\n",
      "Reversed Number : 121\n",
      "Number is Palindrome\n"
     ]
    }
   ],
   "source": [
    "number = int(input('Enter The Number :'))\n",
    "number = str(number)\n",
    "rev_number = number[: :-1]\n",
    "print('Reversed Number :' , rev_number)\n",
    "if number == rev_number :\n",
    "    print('Number is Palindrome')\n",
    "else :\n",
    "    print('Number is not Palindrome')"
   ]
  },
  {
   "cell_type": "markdown",
   "metadata": {},
   "source": [
    "# Check whether leap year or not"
   ]
  },
  {
   "cell_type": "code",
   "execution_count": 45,
   "metadata": {},
   "outputs": [
    {
     "name": "stdout",
     "output_type": "stream",
     "text": [
      "Enter the Year :2021\n",
      "2021 is not a Leap Year\n"
     ]
    }
   ],
   "source": [
    "year = int(input('Enter the Year :'))\n",
    "if year % 4 == 0:\n",
    "    if year % 100 == 0:\n",
    "        if year % 400 == 0:\n",
    "            print(year , 'is a Leap Year')\n",
    "        else :\n",
    "            print(year ,'is not a Leap Year')\n",
    "    else:\n",
    "        print(year ,'is not a Leap Year')\n",
    "else:\n",
    "    print(year ,'is not a Leap Year')"
   ]
  },
  {
   "cell_type": "code",
   "execution_count": 46,
   "metadata": {},
   "outputs": [
    {
     "name": "stdout",
     "output_type": "stream",
     "text": [
      "Enter the Year :2021\n",
      "2021 is not a Leap Year\n"
     ]
    }
   ],
   "source": [
    "year = int(input('Enter the Year :'))\n",
    "if (year % 4 == 0 and year % 100 == 0) or (year % 400 == 0):\n",
    "    print(year , 'is a Leap Year')\n",
    "else :\n",
    "    print(year , 'is not a Leap Year')"
   ]
  },
  {
   "cell_type": "markdown",
   "metadata": {},
   "source": [
    "# Valid Date Program"
   ]
  },
  {
   "cell_type": "code",
   "execution_count": 49,
   "metadata": {},
   "outputs": [
    {
     "name": "stdout",
     "output_type": "stream",
     "text": [
      "Enter Day :1\n",
      "Enter Month :1\n",
      "Enter Year :1\n",
      "enter date is valid\n"
     ]
    }
   ],
   "source": [
    "day = int(input('Enter Day :'))\n",
    "month = int(input('Enter Month :'))\n",
    "year = int(input('Enter Year :'))\n",
    "if month == 1 or month == 3 or month == 5 or month == 7 or month == 8 or month == 10:\n",
    "    max_days = 31\n",
    "elif month == 11 or month == 4 or month == 6 or month == 9:\n",
    "    max_days = 30\n",
    "elif (year % 4 == 0 and year % 100 != 0) or (year % 400 == 0 ):\n",
    "    max_days = 29\n",
    "else:\n",
    "    max_days = 28\n",
    "\n",
    "if month < 1 or month > 12:\n",
    "    print('invalid month')\n",
    "    print('please check the range')\n",
    "elif day < 1 or day > max_days :\n",
    "    print('invalid day')\n",
    "    print('please check the range')\n",
    "else:\n",
    "    print('enter date is valid')\n",
    "    "
   ]
  },
  {
   "cell_type": "markdown",
   "metadata": {},
   "source": [
    "# Exception Handling"
   ]
  },
  {
   "cell_type": "code",
   "execution_count": 50,
   "metadata": {},
   "outputs": [
    {
     "name": "stdout",
     "output_type": "stream",
     "text": [
      "Enter the Number to Calculate the Factorial :9\n",
      "362880\n"
     ]
    }
   ],
   "source": [
    "import math\n",
    "num = int(input('Enter the Number to Calculate the Factorial :'))\n",
    "try:\n",
    "    result = math.factorial(num)\n",
    "    print(result)\n",
    "except:\n",
    "    print('Cannot calculate Factorial of Negative Number')"
   ]
  },
  {
   "cell_type": "code",
   "execution_count": 52,
   "metadata": {
    "scrolled": true
   },
   "outputs": [
    {
     "name": "stdout",
     "output_type": "stream",
     "text": [
      "Enter a Number :-4\n",
      "Negative Number\n",
      "Good Bye\n"
     ]
    }
   ],
   "source": [
    "try:\n",
    "    num = int(input('Enter a Number :'))\n",
    "    if num <= 0:\n",
    "        raise ValueError('Negative Number')\n",
    "except ValueError as error:\n",
    "    print(error)\n",
    "finally:\n",
    "    print('Good Bye')"
   ]
  },
  {
   "cell_type": "code",
   "execution_count": 55,
   "metadata": {},
   "outputs": [
    {
     "name": "stdout",
     "output_type": "stream",
     "text": [
      "Enter a Number :-9\n",
      "factorial() not defined for negative values\n",
      "GoodBye\n"
     ]
    }
   ],
   "source": [
    "import math\n",
    "num = int(input('Enter a Number :'))\n",
    "try:\n",
    "    result = math.factorial(num)\n",
    "    print(result)\n",
    "    if num <= 0:\n",
    "        raise ValueError('Negative Number')\n",
    "except ValueError as error:\n",
    "    print(error)\n",
    "finally:  #ecxecutes in any condition3\n",
    "    print('GoodBye')"
   ]
  },
  {
   "cell_type": "markdown",
   "metadata": {},
   "source": [
    "# Check Whether CoPrime or Not"
   ]
  },
  {
   "cell_type": "code",
   "execution_count": 68,
   "metadata": {},
   "outputs": [
    {
     "name": "stdout",
     "output_type": "stream",
     "text": [
      "Enter Number 1 :10\n",
      "Enter Number 2 :13\n",
      "10 and 13 are co-prime\n"
     ]
    }
   ],
   "source": [
    "#only 1 as a comman factor\n",
    "from math import gcd\n",
    "num1 = int(input('Enter Number 1 :'))\n",
    "num2 = int(input('Enter Number 2 :'))\n",
    "if gcd(num1 , num2) == 1:\n",
    "    print(num1 , 'and' , num2 , 'are co-prime')\n",
    "else :\n",
    "    print(num1 , 'and' , num2 , 'are not co-prime')\n"
   ]
  },
  {
   "cell_type": "code",
   "execution_count": null,
   "metadata": {},
   "outputs": [],
   "source": []
  }
 ],
 "metadata": {
  "kernelspec": {
   "display_name": "Python 3",
   "language": "python",
   "name": "python3"
  },
  "language_info": {
   "codemirror_mode": {
    "name": "ipython",
    "version": 3
   },
   "file_extension": ".py",
   "mimetype": "text/x-python",
   "name": "python",
   "nbconvert_exporter": "python",
   "pygments_lexer": "ipython3",
   "version": "3.7.6"
  }
 },
 "nbformat": 4,
 "nbformat_minor": 4
}
